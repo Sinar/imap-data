{
 "cells": [
  {
   "cell_type": "markdown",
   "id": "ca7bf690",
   "metadata": {},
   "source": [
    "## List of all "
   ]
  },
  {
   "cell_type": "markdown",
   "id": "00d9093e",
   "metadata": {},
   "source": [
    "### Testing with one country"
   ]
  },
  {
   "cell_type": "code",
   "execution_count": 1,
   "id": "fec5e836",
   "metadata": {},
   "outputs": [],
   "source": [
    "import requests\n",
    "import pandas as pd\n",
    "resp = requests.get('https://api.ooni.io/api/v1/aggregation'\n",
    "             f'?probe_cc=MM&test_name=web_connectivity&since=2022-07-01&until=2023-07-01&axis_x=measurement_start_day&axis_y=category_code')\n",
    "j = resp.json()\n",
    "df = pd.json_normalize(j, record_path='result')"
   ]
  },
  {
   "cell_type": "code",
   "execution_count": 2,
   "id": "e250c816",
   "metadata": {},
   "outputs": [
    {
     "name": "stdout",
     "output_type": "stream",
     "text": [
      "   anomaly_count category_code  confirmed_count  failure_count  \\\n",
      "0             13          ALDR                0              0   \n",
      "1             23          ANON                3              2   \n",
      "2              2          COMM                0              0   \n",
      "3              6          COMT                0              1   \n",
      "4              2          CTRL                0              0   \n",
      "\n",
      "   measurement_count measurement_start_day  ok_count  \n",
      "0                 93            2022-07-01        80  \n",
      "1                204            2022-07-01       176  \n",
      "2                 36            2022-07-01        34  \n",
      "3                128            2022-07-01       121  \n",
      "4                  5            2022-07-01         3  \n"
     ]
    }
   ],
   "source": [
    "print(df.head())"
   ]
  },
  {
   "cell_type": "markdown",
   "id": "43f31a17",
   "metadata": {},
   "source": [
    "### List of all inputs of all countries"
   ]
  },
  {
   "cell_type": "code",
   "execution_count": 3,
   "id": "a2c08162",
   "metadata": {},
   "outputs": [],
   "source": [
    "import requests\n",
    "import pandas as pd\n",
    "# Burma, Cambodia, Hong Kong (China), India, Indonesia, Malaysia, Philippines, Thailand, Vietnam, Timor Leste\n",
    "cc_list = [\n",
    "    'MM',\n",
    "    'KH',\n",
    "    'HK',\n",
    "    'IN',\n",
    "    'ID',\n",
    "    'MY',\n",
    "    'PH',\n",
    "    'TH',\n",
    "    'VN',\n",
    "    'TL'\n",
    "]\n",
    "def get_webconnectivity(probe_cc):\n",
    "    resp = requests.get('https://api.ooni.io/api/v1/aggregation'\n",
    "             f'?probe_cc={probe_cc}&test_name=web_connectivity&since=2022-07-01&until=2023-07-01&axis_x=measurement_start_day&axis_y=category_code')\n",
    "    j = resp.json()\n",
    "    df = pd.json_normalize(j, record_path='result')\n",
    "    df['probe_cc'] = probe_cc\n",
    "    return df\n",
    "\n",
    "# Note: as_index=False is to combine the first 2 headers when doing agg\n",
    "\n",
    "df_list = []\n",
    "for cc in cc_list:\n",
    "    df_list.append(pd.DataFrame(get_webconnectivity(cc)))\n",
    "    \n",
    "df_all = pd.concat(df_list)"
   ]
  },
  {
   "cell_type": "code",
   "execution_count": 5,
   "id": "67eaa34f",
   "metadata": {},
   "outputs": [],
   "source": [
    "df_all.to_csv('webconnectivity_2023.csv')"
   ]
  },
  {
   "cell_type": "code",
   "execution_count": 4,
   "id": "f13af090",
   "metadata": {
    "scrolled": true
   },
   "outputs": [
    {
     "name": "stdout",
     "output_type": "stream",
     "text": [
      "   anomaly_count category_code  confirmed_count  failure_count  \\\n",
      "0             13          ALDR                0              0   \n",
      "1             23          ANON                3              2   \n",
      "2              2          COMM                0              0   \n",
      "3              6          COMT                0              1   \n",
      "4              2          CTRL                0              0   \n",
      "\n",
      "   measurement_count measurement_start_day  ok_count probe_cc  \n",
      "0                 93            2022-07-01        80       MM  \n",
      "1                204            2022-07-01       176       MM  \n",
      "2                 36            2022-07-01        34       MM  \n",
      "3                128            2022-07-01       121       MM  \n",
      "4                  5            2022-07-01         3       MM  \n"
     ]
    }
   ],
   "source": [
    "print(df_all.head())"
   ]
  },
  {
   "cell_type": "markdown",
   "id": "1d9e7881",
   "metadata": {},
   "source": [
    "### aggregation"
   ]
  },
  {
   "cell_type": "code",
   "execution_count": 6,
   "id": "2654d504",
   "metadata": {},
   "outputs": [],
   "source": [
    "import requests\n",
    "import pandas as pd\n",
    "resp = requests.get('https://api.ooni.io/api/v1/aggregation'\n",
    "             f'?probe_cc=MM&test_name=web_connectivity&since=2022-07-01&until=2023-07-01&axis_x=measurement_start_day&axis_y=input')\n",
    "j = resp.json()\n",
    "df_date_input = pd.json_normalize(j, record_path='result')"
   ]
  },
  {
   "cell_type": "code",
   "execution_count": 11,
   "id": "b612dad6",
   "metadata": {},
   "outputs": [],
   "source": [
    "df_date_input['measurement_start_day'] = pd.to_datetime(df_date_input['measurement_start_day'])\n"
   ]
  },
  {
   "cell_type": "code",
   "execution_count": 13,
   "id": "bf26ce76",
   "metadata": {},
   "outputs": [],
   "source": [
    "df_date_input['quarter'] = df_date_input['measurement_start_day'].dt.to_period('Q')"
   ]
  },
  {
   "cell_type": "code",
   "execution_count": null,
   "id": "7b44d5af",
   "metadata": {},
   "outputs": [],
   "source": [
    "print(df_date_input.head())"
   ]
  },
  {
   "cell_type": "code",
   "execution_count": 20,
   "id": "00a13dbb",
   "metadata": {},
   "outputs": [],
   "source": [
    "df_input_summary = df_date_input.groupby(['quarter'], as_index=False).agg(\n",
    "        input_count = ('input', 'nunique')\n",
    "        )"
   ]
  },
  {
   "cell_type": "code",
   "execution_count": 21,
   "id": "a1f75250",
   "metadata": {
    "scrolled": true
   },
   "outputs": [
    {
     "name": "stdout",
     "output_type": "stream",
     "text": [
      "  quarter  input_count\n",
      "0  2022Q3         2570\n",
      "1  2022Q4         2440\n",
      "2  2023Q1         2449\n",
      "3  2023Q2         2485\n"
     ]
    }
   ],
   "source": [
    "print(df_input_summary.head())"
   ]
  },
  {
   "cell_type": "code",
   "execution_count": 25,
   "id": "c8868a0f",
   "metadata": {},
   "outputs": [],
   "source": [
    "import requests\n",
    "import pandas as pd\n",
    "resp = requests.get('https://api.ooni.io/api/v1/aggregation'\n",
    "             f'?probe_cc=MM&test_name=web_connectivity&since=2022-07-01&until=2023-07-01&axis_x=measurement_start_day&axis_y=probe_asn')\n",
    "j = resp.json()\n",
    "df_date_asn = pd.json_normalize(j, record_path='result')\n",
    "df_date_asn['measurement_start_day'] = pd.to_datetime(df_date_asn['measurement_start_day'])\n",
    "df_date_asn['quarter'] = df_date_asn['measurement_start_day'].dt.to_period('Q')\n",
    "df_date_asn['probe_cc'] = 'MM'"
   ]
  },
  {
   "cell_type": "code",
   "execution_count": 26,
   "id": "a5a2829d",
   "metadata": {},
   "outputs": [],
   "source": [
    "df_asn_summary = df_date_asn.groupby(['quarter','probe_cc'], as_index=False).agg(\n",
    "        asn_count = ('probe_asn', 'nunique')\n",
    "        )"
   ]
  },
  {
   "cell_type": "code",
   "execution_count": 27,
   "id": "f0ff3ef3",
   "metadata": {},
   "outputs": [
    {
     "name": "stdout",
     "output_type": "stream",
     "text": [
      "  quarter probe_cc  asn_count\n",
      "0  2022Q3       MM         32\n",
      "1  2022Q4       MM         24\n",
      "2  2023Q1       MM         27\n",
      "3  2023Q2       MM         28\n"
     ]
    }
   ],
   "source": [
    "print(df_asn_summary.head())"
   ]
  },
  {
   "cell_type": "code",
   "execution_count": 22,
   "id": "8e0df645",
   "metadata": {},
   "outputs": [],
   "source": [
    "df_quarter = df_asn_summary.merge(df_input_summary, on='quarter', how='inner')\n"
   ]
  },
  {
   "cell_type": "code",
   "execution_count": 23,
   "id": "cdada416",
   "metadata": {},
   "outputs": [
    {
     "name": "stdout",
     "output_type": "stream",
     "text": [
      "  quarter  asn_count  input_count\n",
      "0  2022Q3         32         2570\n",
      "1  2022Q4         24         2440\n",
      "2  2023Q1         27         2449\n",
      "3  2023Q2         28         2485\n"
     ]
    }
   ],
   "source": [
    "print(df_quarter.head())"
   ]
  },
  {
   "cell_type": "code",
   "execution_count": 5,
   "id": "7a2a1de1",
   "metadata": {},
   "outputs": [],
   "source": [
    "import requests\n",
    "import pandas as pd\n",
    "# Burma, Cambodia, Hong Kong (China), India, Indonesia, Malaysia, Philippines, Thailand, Vietnam, Timor Leste\n",
    "cc_list = [\n",
    "    'MM',\n",
    "    'KH',\n",
    "    'HK',\n",
    "    'IN',\n",
    "    'ID',\n",
    "    'MY',\n",
    "    'PH',\n",
    "    'TH',\n",
    "    'VN',\n",
    "    'TL'\n",
    "]\n",
    "def get_webconnectivity(probe_cc):\n",
    "    resp_asn = requests.get('https://api.ooni.io/api/v1/aggregation'\n",
    "                     f'?probe_cc={probe_cc}&test_name=web_connectivity&since=2022-07-01&until=2023-07-01&axis_x=measurement_start_day&axis_y=probe_asn')\n",
    "    j = resp_asn.json()\n",
    "                            \n",
    "    df_date_asn = pd.json_normalize(j, record_path='result')\n",
    "    df_date_asn['measurement_start_day'] = pd.to_datetime(df_date_asn['measurement_start_day'])\n",
    "    df_date_asn['quarter'] = df_date_asn['measurement_start_day'].dt.to_period('Q')\n",
    "    df_date_asn['probe_cc'] = probe_cc\n",
    "    \n",
    "    df_asn_summary = df_date_asn.groupby(['quarter','probe_cc'], as_index=False).agg(\n",
    "        asn_count = ('probe_asn', 'nunique'))    \n",
    "                            \n",
    "    resp_input = requests.get('https://api.ooni.io/api/v1/aggregation'\n",
    "                        f'?probe_cc={probe_cc}&test_name=web_connectivity&since=2022-07-01&until=2023-07-01&axis_x=measurement_start_day&axis_y=input')\n",
    "    k = resp_input.json()\n",
    "                              \n",
    "    df_date_input = pd.json_normalize(k, record_path='result')\n",
    "    df_date_input['measurement_start_day'] = pd.to_datetime(df_date_input['measurement_start_day'])\n",
    "    df_date_input['quarter'] = df_date_input['measurement_start_day'].dt.to_period('Q')\n",
    "    df_date_input['probe_cc'] = probe_cc\n",
    "                              \n",
    "    df_input_summary = df_date_input.groupby(['quarter'], as_index=False).agg(\n",
    "        input_count = ('input', 'nunique'),\n",
    "        ok_count = ('ok_count', 'sum'),\n",
    "        anomaly_count = ('anomaly_count', 'sum'),\n",
    "        confirmed_count = ('confirmed_count', 'sum'),\n",
    "        failure_count = ('failure_count', 'sum'),\n",
    "        measurement_count = ('measurement_count', 'sum')\n",
    "    )                     \n",
    "    \n",
    "    df_quarter = df_asn_summary.merge(df_input_summary, on='quarter', how='inner')\n",
    "\n",
    "    return df_quarter\n",
    "\n",
    "# Note: as_index=False is to combine the first 2 headers when doing agg\n",
    "\n",
    "df_list = []\n",
    "for cc in cc_list:\n",
    "    df_list.append(pd.DataFrame(get_webconnectivity(cc)))\n",
    "    \n",
    "df_all_2 = pd.concat(df_list)"
   ]
  },
  {
   "cell_type": "code",
   "execution_count": null,
   "id": "01b30b10",
   "metadata": {},
   "outputs": [],
   "source": [
    "import requests\n",
    "import pandas as pd\n",
    "# Burma, Cambodia, Hong Kong (China), India, Indonesia, Malaysia, Philippines, Thailand, Vietnam, Timor Leste\n",
    "cc_list = [\n",
    "    'MM',\n",
    "    'KH',\n",
    "    'HK',\n",
    "    'IN',\n",
    "    'ID',\n",
    "    'MY',\n",
    "    'PH',\n",
    "    'TH',\n",
    "    'VN',\n",
    "    'TL'\n",
    "]\n",
    "def get_webconnectivity(probe_cc):\n",
    "    resp_asn = requests.get('https://api.ooni.io/api/v1/aggregation'\n",
    "                     f'?probe_cc={probe_cc}&test_name=web_connectivity&since=2022-07-01&until=2023-07-01&axis_x=measurement_start_day&axis_y=probe_asn')\n",
    "    j = resp_asn.json()\n",
    "                            \n",
    "    df_date_asn = pd.json_normalize(j, record_path='result')\n",
    "    df_date_asn['measurement_start_day'] = pd.to_datetime(df_date_asn['measurement_start_day'])\n",
    "    df_date_asn['quarter'] = df_date_asn['measurement_start_day'].dt.to_period('Q')\n",
    "    df_date_asn['probe_cc'] = probe_cc\n",
    "    \n",
    "    df_asn_summary = df_date_asn.groupby(['quarter','probe_cc'], as_index=False).agg(\n",
    "        asn_count = ('probe_asn', 'nunique'))    \n",
    "                            \n",
    "    resp_input = requests.get('https://api.ooni.io/api/v1/aggregation'\n",
    "                        f'?probe_cc={probe_cc}&test_name=web_connectivity&since=2022-07-01&until=2023-07-01&axis_x=measurement_start_day&axis_y=input')\n",
    "    k = resp_input.json()\n",
    "                              \n",
    "    df_date_input = pd.json_normalize(k, record_path='result')\n",
    "    df_date_input['measurement_start_day'] = pd.to_datetime(df_date_input['measurement_start_day'])\n",
    "    df_date_input['quarter'] = df_date_input['measurement_start_day'].dt.to_period('Q')\n",
    "    df_date_input['probe_cc'] = probe_cc\n",
    "                              \n",
    "    df_input_summary = df_date_input.groupby(['quarter'], as_index=False).agg(\n",
    "        input_count = ('input', 'nunique'),\n",
    "        ok_count = ('ok_count', 'sum'),\n",
    "        anomaly_count = ('anomaly_count', 'sum'),\n",
    "        confirmed_count = ('confirmed_count', 'sum'),\n",
    "        failure_count = ('failure_count', 'sum'),\n",
    "        measurement_count = ('measurement_count', 'sum')\n",
    "    )                     \n",
    "    \n",
    "    df_quarter = df_asn_summary.merge(df_input_summary, on='quarter', how='inner')\n",
    "\n",
    "    return df_asn_summary\n",
    "\n",
    "# Note: as_index=False is to combine the first 2 headers when doing agg\n",
    "\n",
    "df_list = []\n",
    "for cc in cc_list:\n",
    "    df_list.append(pd.DataFrame(get_webconnectivity(cc)))\n",
    "    \n",
    "df_all_ = pd.concat(df_list)"
   ]
  },
  {
   "cell_type": "code",
   "execution_count": 32,
   "id": "b2bfbd88",
   "metadata": {},
   "outputs": [
    {
     "name": "stdout",
     "output_type": "stream",
     "text": [
      "  quarter probe_cc_x  asn_count probe_cc_y  input_count\n",
      "0  2022Q3         MM         32         MM         2570\n",
      "1  2022Q4         MM         24         MM         2440\n",
      "2  2023Q1         MM         27         MM         2449\n",
      "3  2023Q2         MM         28         MM         2485\n",
      "0  2022Q3         KH         14         KH         1886\n"
     ]
    }
   ],
   "source": [
    "print(df_all_2.head())"
   ]
  },
  {
   "cell_type": "code",
   "execution_count": null,
   "id": "ba53cc8b",
   "metadata": {},
   "outputs": [],
   "source": [
    "import requests\n",
    "import pandas as pd\n",
    "# Burma, Cambodia, Hong Kong (China), India, Indonesia, Malaysia, Philippines, Thailand, Vietnam, Timor Leste\n",
    "cc_list = [\n",
    "    'MM',\n",
    "    'KH',\n",
    "    'HK',\n",
    "    'IN',\n",
    "    'ID',\n",
    "    'MY',\n",
    "    'PH',\n",
    "    'TH',\n",
    "    'VN',\n",
    "    'TL'\n",
    "]\n",
    "def get_webconnectivity(probe_cc):\n",
    "    resp_asn = requests.get('https://api.ooni.io/api/v1/aggregation'\n",
    "                     f'?probe_cc={probe_cc}&test_name=web_connectivity&since=2022-07-01&until=2023-07-01&axis_x=measurement_start_day&axis_y=probe_asn')\n",
    "    j = resp_asn.json()\n",
    "                            \n",
    "    df_date_asn = pd.json_normalize(j, record_path='result')\n",
    "    df_date_asn['measurement_start_day'] = pd.to_datetime(df_date_asn['measurement_start_day'])\n",
    "    df_date_asn['quarter'] = df_date_asn['measurement_start_day'].dt.to_period('Q')\n",
    "    df_date_asn['probe_cc'] = probe_cc\n",
    "    \n",
    "    df_asn_summary = df_date_asn.groupby(['quarter','probe_cc'], as_index=False).agg(\n",
    "        asn_count = ('probe_asn', 'nunique'))    \n",
    "                            \n",
    "    resp_input = requests.get('https://api.ooni.io/api/v1/aggregation'\n",
    "                        f'?probe_cc={probe_cc}&test_name=web_connectivity&since=2022-07-01&until=2023-07-01&axis_x=measurement_start_day&axis_y=input')\n",
    "    k = resp_input.json()\n",
    "                              \n",
    "    df_date_input = pd.json_normalize(k, record_path='result')\n",
    "    df_date_input['measurement_start_day'] = pd.to_datetime(df_date_input['measurement_start_day'])\n",
    "    df_date_input['quarter'] = df_date_input['measurement_start_day'].dt.to_period('Q')\n",
    "    df_date_input['probe_cc'] = probe_cc\n",
    "                              \n",
    "    df_input_summary = df_date_input.groupby(['quarter'], as_index=False).agg(\n",
    "        input_count = ('input', 'nunique'),\n",
    "        ok_count = ('ok_count', 'sum'),\n",
    "        anomaly_count = ('anomaly_count', 'sum'),\n",
    "        confirmed_count = ('confirmed_count', 'sum'),\n",
    "        failure_count = ('failure_count', 'sum'),\n",
    "        measurement_count = ('measurement_count', 'sum')\n",
    "    )                     \n",
    "    \n",
    "    df_quarter = df_asn_summary.merge(df_input_summary, on='quarter', how='inner')\n",
    "\n",
    "    return df_quarter\n",
    "\n",
    "# Note: as_index=False is to combine the first 2 headers when doing agg\n",
    "\n",
    "df_list = []\n",
    "for cc in cc_list:\n",
    "    df_list.append(pd.DataFrame(get_webconnectivity(cc)))\n",
    "    \n",
    "df_all_2 = pd.concat(df_list)"
   ]
  },
  {
   "cell_type": "code",
   "execution_count": 6,
   "id": "dd8494d4",
   "metadata": {},
   "outputs": [],
   "source": [
    "df_all_2.to_csv('webconnectivity_2023_2.csv')"
   ]
  }
 ],
 "metadata": {
  "kernelspec": {
   "display_name": "Python 3 (ipykernel)",
   "language": "python",
   "name": "python3"
  },
  "language_info": {
   "codemirror_mode": {
    "name": "ipython",
    "version": 3
   },
   "file_extension": ".py",
   "mimetype": "text/x-python",
   "name": "python",
   "nbconvert_exporter": "python",
   "pygments_lexer": "ipython3",
   "version": "3.8.13"
  }
 },
 "nbformat": 4,
 "nbformat_minor": 5
}
