{
 "cells": [
  {
   "cell_type": "markdown",
   "id": "ca7bf690",
   "metadata": {},
   "source": [
    "## List of all "
   ]
  },
  {
   "cell_type": "markdown",
   "id": "00d9093e",
   "metadata": {},
   "source": [
    "### Testing with one country"
   ]
  },
  {
   "cell_type": "code",
   "execution_count": 10,
   "id": "fec5e836",
   "metadata": {},
   "outputs": [],
   "source": [
    "import requests\n",
    "import pandas as pd\n",
    "resp = requests.get('https://api.ooni.io/api/v1/aggregation'\n",
    "             f'?probe_cc=MM&test_name=signal%2Cwhatsapp%2Cfacebook_messenger%2Ctelegram%2Ctorsf%2Ctor%2Cpsiphon%2Cvanilla_tor&since=2022-07-01&until=2023-07-01&axis_x=measurement_start_day&axis_y=test_name&format=JSON')\n",
    "j = resp.json()\n",
    "df = pd.json_normalize(j, record_path='result')"
   ]
  },
  {
   "cell_type": "code",
   "execution_count": 11,
   "id": "e250c816",
   "metadata": {},
   "outputs": [
    {
     "name": "stdout",
     "output_type": "stream",
     "text": [
      "   anomaly_count  confirmed_count  failure_count  measurement_count  \\\n",
      "0             28                0              0                 50   \n",
      "1              1                0              0                 52   \n",
      "2              1                0              0                 46   \n",
      "3              4                0              0                 49   \n",
      "4              1                0              0                 50   \n",
      "\n",
      "  measurement_start_day  ok_count           test_name  \n",
      "0            2022-07-01        22  facebook_messenger  \n",
      "1            2022-07-01        51             psiphon  \n",
      "2            2022-07-01        45              signal  \n",
      "3            2022-07-01        45            telegram  \n",
      "4            2022-07-01        49                 tor  \n"
     ]
    }
   ],
   "source": [
    "print(df.head())"
   ]
  },
  {
   "cell_type": "markdown",
   "id": "43f31a17",
   "metadata": {},
   "source": [
    "### List of all inputs of all countries"
   ]
  },
  {
   "cell_type": "code",
   "execution_count": 13,
   "id": "a2c08162",
   "metadata": {},
   "outputs": [],
   "source": [
    "import requests\n",
    "import pandas as pd\n",
    "# Burma, Cambodia, Hong Kong (China), India, Indonesia, Malaysia, Philippines, Thailand, Vietnam, Timor Leste\n",
    "cc_list = [\n",
    "    'MM',\n",
    "    'KH',\n",
    "    'HK',\n",
    "    'IN',\n",
    "    'ID',\n",
    "    'MY',\n",
    "    'PH',\n",
    "    'TH',\n",
    "    'VN',\n",
    "    'TL'\n",
    "]\n",
    "def get_webconnectivity(probe_cc):\n",
    "    resp = requests.get('https://api.ooni.io/api/v1/aggregation'\n",
    "             f'?probe_cc={probe_cc}&test_name=signal%2Cwhatsapp%2Cfacebook_messenger%2Ctelegram%2Ctorsf%2Ctor%2Cpsiphon%2Cvanilla_tor&since=2022-07-01&until=2023-07-01&axis_x=measurement_start_day&axis_y=test_name')\n",
    "    j = resp.json()\n",
    "    df = pd.json_normalize(j, record_path='result')\n",
    "    df['probe_cc'] = probe_cc\n",
    "    return df\n",
    "\n",
    "# Note: as_index=False is to combine the first 2 headers when doing agg\n",
    "\n",
    "df_list = []\n",
    "for cc in cc_list:\n",
    "    df_list.append(pd.DataFrame(get_webconnectivity(cc)))\n",
    "    \n",
    "df_all = pd.concat(df_list)"
   ]
  },
  {
   "cell_type": "code",
   "execution_count": 15,
   "id": "67eaa34f",
   "metadata": {},
   "outputs": [],
   "source": [
    "df_all.to_csv('im_ct_2023.csv')"
   ]
  },
  {
   "cell_type": "code",
   "execution_count": 14,
   "id": "f13af090",
   "metadata": {},
   "outputs": [
    {
     "name": "stdout",
     "output_type": "stream",
     "text": [
      "   anomaly_count  confirmed_count  failure_count  measurement_count  \\\n",
      "0             28                0              0                 50   \n",
      "1              1                0              0                 52   \n",
      "2              1                0              0                 46   \n",
      "3              4                0              0                 49   \n",
      "4              1                0              0                 50   \n",
      "\n",
      "  measurement_start_day  ok_count           test_name probe_cc  \n",
      "0            2022-07-01        22  facebook_messenger       MM  \n",
      "1            2022-07-01        51             psiphon       MM  \n",
      "2            2022-07-01        45              signal       MM  \n",
      "3            2022-07-01        45            telegram       MM  \n",
      "4            2022-07-01        49                 tor       MM  \n"
     ]
    }
   ],
   "source": [
    "print(df_all.head())"
   ]
  }
 ],
 "metadata": {
  "kernelspec": {
   "display_name": "Python 3 (ipykernel)",
   "language": "python",
   "name": "python3"
  },
  "language_info": {
   "codemirror_mode": {
    "name": "ipython",
    "version": 3
   },
   "file_extension": ".py",
   "mimetype": "text/x-python",
   "name": "python",
   "nbconvert_exporter": "python",
   "pygments_lexer": "ipython3",
   "version": "3.8.13"
  }
 },
 "nbformat": 4,
 "nbformat_minor": 5
}
