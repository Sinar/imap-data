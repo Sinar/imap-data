{
 "cells": [
  {
   "cell_type": "markdown",
   "id": "41485f29-7287-40d2-a87a-c5daeb84f731",
   "metadata": {},
   "source": [
    "## OONI data analysis case study for IMAP - Vietnam\n",
    "\n",
    "### Downloading the data\n",
    "\n",
    "We offer a tool called oonidata (that's currently in BETA), which can be installed by running:\n",
    "```\n",
    "pip install oonidata\n",
    "```\n",
    "\n",
    "To download all OONI data for this example notebook, run the following command:\n",
    "```\n",
    "oonidata sync --country-codes MY TL MM IN VN KH PH TH ID HK --since 2022-07-01 --until 2023-07-01 --output-dir ~/projects/imap/ooni-data/ --test-name webconnectivity\n",
    "```\n",
    "\n"
   ]
  },
  {
   "cell_type": "code",
   "execution_count": 1,
   "id": "a96ac23b-e9cd-482c-b598-ba70184eee58",
   "metadata": {},
   "outputs": [],
   "source": [
    "import pandas as pd\n",
    "import numpy as np\n",
    "import matplotlib.pyplot as plt\n",
    "\n",
    "from datetime import datetime, timedelta\n",
    "from dateutil.parser import parse as parse_date\n",
    "from urllib.parse import urlencode, quote, urlparse\n",
    "\n",
    "from tqdm import tqdm\n",
    "tqdm.pandas()"
   ]
  },
  {
   "cell_type": "markdown",
   "id": "aff8b48e-786d-462f-91ed-881f995a9a5f",
   "metadata": {},
   "source": [
    "### OONI Explorer utility functions\n",
    "\n",
    "Below are a couple of useful utility functions when dealing with measurements. They take a dataframe row and return (or print) the OONI Explorer URL. This is useful to get a link to OONI explorer to more easily inspect the raw measurement to better understand what is going on."
   ]
  },
  {
   "cell_type": "code",
   "execution_count": 2,
   "id": "db0a313f-7410-409a-9059-a6e19bd157a9",
   "metadata": {},
   "outputs": [],
   "source": [
    "def get_explorer_url(e):\n",
    "    query = ''\n",
    "    if 'input' in e.keys() and e['input']:\n",
    "        query = '?input={}'.format(quote(e['input'], safe=''))\n",
    "    return 'https://explorer.ooni.org/measurement/{}{}'.format(e['report_id'], query)\n",
    "    \n",
    "def print_explorer_url(e):\n",
    "    print(get_explorer_url(e))"
   ]
  },
  {
   "cell_type": "markdown",
   "id": "f255a254",
   "metadata": {},
   "source": [
    "# Extracting metadata from raw measurements\n",
    "\n",
    "The OONI raw data is very rich, but for most analysis use-cases you just need a subset of the fields or some value that is derived from them.\n",
    "\n",
    "Below are functions that will extract all the metadata we care about from the web_connectivity test.\n",
    "\n"
   ]
  },
  {
   "cell_type": "code",
   "execution_count": 3,
   "id": "b0ed1fd5-5338-43ec-ae9a-d3dd468a5e2f",
   "metadata": {},
   "outputs": [],
   "source": [
    "import requests\n",
    "from base64 import b64decode\n",
    "import hashlib\n",
    "import json\n",
    "import re\n",
    "\n",
    "def get_raw_measurement(row):\n",
    "    r = requests.get(\"https://api.ooni.io/api/v1/measurement_meta\", params={\n",
    "        'report_id':row['report_id'],\n",
    "        'input': row['input'],\n",
    "        'full': True\n",
    "    })\n",
    "    j = r.json()\n",
    "    return json.loads(j['raw_measurement'])\n",
    "\n",
    "def get_resolved_ips(msmt):\n",
    "    queries = msmt['test_keys'].get('queries', [])\n",
    "    if not queries:\n",
    "        return ''\n",
    "    answers = queries[0].get('answers', [])\n",
    "    if not answers:\n",
    "        return []\n",
    "    \n",
    "    ip_list = []\n",
    "    for a in answers:\n",
    "        ip = a.get('ipv4', '')\n",
    "        if ip:\n",
    "            ip_list.append(ip)\n",
    "    return ip_list\n",
    "\n",
    "def get_control_failure(msmt):\n",
    "    if 'test_keys' not in msmt:\n",
    "        return 'missing_test_keys'\n",
    "    return msmt['test_keys']['control_failure']\n",
    "\n",
    "def get_test_keys_blocking(msmt):\n",
    "    return str(msmt['test_keys']['blocking'])\n",
    "\n",
    "def get_http_experiment_failure(msmt):\n",
    "    return str(msmt['test_keys']['http_experiment_failure'])\n",
    "\n",
    "def get_resolver_info(msmt):\n",
    "    return {\n",
    "        'resolver_ip': msmt.get('resolver_ip', ''),\n",
    "        'resolver_asn': msmt.get('resolver_asn', ''),\n",
    "        'resolver_network_name': msmt.get('resolver_network_name', '')\n",
    "    }\n",
    "\n",
    "def get_network_events(msmt):\n",
    "    return msmt['test_keys'].get('network_events', [])\n",
    "\n",
    "def get_tcp_connect(msmt):\n",
    "    return msmt['test_keys'].get('tcp_connect', [])\n",
    "\n",
    "def decode_body(body):\n",
    "    if body is None:\n",
    "        return ''\n",
    "    if isinstance(body, dict):\n",
    "        raw_body = b64decode(body['data'])\n",
    "        try:\n",
    "            return raw_body.decode('utf-8')\n",
    "        except:\n",
    "            return raw_body\n",
    "    return body\n",
    "\n",
    "def get_last_response_body(msmt):\n",
    "    try:\n",
    "        # The requests/response list sorts them from the newest to the oldest, \n",
    "        # hence the first item in the list is the last response we received.\n",
    "        body = msmt['test_keys']['requests'][0]['response']['body']\n",
    "        return decode_body(body)\n",
    "    except (KeyError, TypeError, IndexError):\n",
    "        return ''\n",
    "\n",
    "TITLE_REGEXP = re.compile(\"<title.*?>(.*?)</title>\", re.IGNORECASE | re.DOTALL)\n",
    "# Doesn't take into account ordering\n",
    "META_TITLE_REGEXP = re.compile(\"<meta.*?property=\\\"og:title\\\".*?content=\\\"(.*?)\\\"\", re.IGNORECASE | re.DOTALL)\n",
    "\n",
    "def get_http_title(msmt):\n",
    "    body = get_last_response_body(msmt)\n",
    "    # If the body is not a str object, it means it's binary (or an encoding we could not detect). \n",
    "    # No point in trying to extract the title.\n",
    "    # Handling it like this is not very clean or nice.\n",
    "    if not isinstance(body, str):\n",
    "        return ''\n",
    "\n",
    "    m = TITLE_REGEXP.search(body, re.IGNORECASE | re.DOTALL)\n",
    "    if m:\n",
    "        return m.group(1)\n",
    "    return ''\n",
    "\n",
    "    return extract_title(get_last_response_body(msmt))\n",
    "\n",
    "def get_meta_http_title(msmt):\n",
    "    body = get_last_response_body(msmt)\n",
    "    if not isinstance(body, str):\n",
    "        return ''\n",
    "\n",
    "    m = META_TITLE_REGEXP.search(body, re.IGNORECASE | re.DOTALL)\n",
    "    if m:\n",
    "        return m.group(1)\n",
    "    return ''\n",
    "\n",
    "def get_http_body_hash(msmt):\n",
    "    body = get_last_response_body(msmt)\n",
    "    if body == '':\n",
    "        return ''\n",
    "    if isinstance(body, str):\n",
    "        # We need the content of the body to be binary.\n",
    "        body = body.encode('utf-8')\n",
    "    return hashlib.md5(body[:2048]).hexdigest()\n",
    "\n",
    "def base_metadata(msmt):\n",
    "    base_keys = [\n",
    "        'input',\n",
    "        'measurement_start_time',\n",
    "        'probe_asn',\n",
    "        'probe_cc',\n",
    "        'probe_network_name',\n",
    "        'report_id',\n",
    "        'resolver_asn',\n",
    "        'resolver_ip',\n",
    "        'resolver_network_name',\n",
    "        'software_name',\n",
    "        'software_version',\n",
    "        'test_name',\n",
    "        'test_runtime',\n",
    "        'test_version'\n",
    "    ]\n",
    "    base_metadata = {}\n",
    "    for k in base_keys:\n",
    "        base_metadata[k] = msmt.get(k, '')\n",
    "    annotations = msmt.pop('annotations')\n",
    "    base_metadata['network_type'] = annotations.get('network_type', 'unknown')\n",
    "    base_metadata['origin'] = annotations.get('origin', 'unknown')\n",
    "    base_metadata['platform'] = annotations.get('platform', 'unknown')\n",
    "    return base_metadata"
   ]
  },
  {
   "cell_type": "code",
   "execution_count": 4,
   "id": "77b2edfd-8746-4bfb-b03f-f78bf33fc178",
   "metadata": {},
   "outputs": [],
   "source": [
    "def get_measurement_meta(msmt):\n",
    "    m = base_metadata(msmt)\n",
    "    m.update(get_resolver_info(msmt))\n",
    "    m.update({\n",
    "        'dns_resolved_ips': get_resolved_ips(msmt),\n",
    "        'network_events': get_network_events(msmt),\n",
    "        'control_failure': get_control_failure(msmt),\n",
    "        'control_measurement': msmt['test_keys']['control'],\n",
    "        'blocking': get_test_keys_blocking(msmt),\n",
    "        'http_experiment_failure': get_http_experiment_failure(msmt),\n",
    "        'dns_experiment_failure': str(msmt['test_keys']['dns_experiment_failure']),\n",
    "        'http_title': get_http_title(msmt),\n",
    "        'http_meta_title': get_meta_http_title(msmt),\n",
    "        'http_body_md5': get_http_body_hash(msmt),\n",
    "        'tcp_connect': get_tcp_connect(msmt),\n",
    "    })\n",
    "    return m"
   ]
  },
  {
   "cell_type": "markdown",
   "id": "c1851ba3-b009-46fc-b3c7-09aac2d74254",
   "metadata": {},
   "source": [
    "### Parsing raw files on disk, filtering and transforming them\n",
    "\n",
    "Below are functions that will list the files on disk, given a search query, and return an iterator of the raw measurement dict.\n",
    "\n",
    "These functions are then called by either `msmt_to_csv` or `get_msmt_df`, which write the processed data to a CSV file or load it in memory as a pandas DataFrame respectively.\n",
    "\n",
    "It's generally recommended, when you are dealing with very large datasets, to write the minimised form of the data to a file on disk so that you don't have to re-parse everything if your notebook crashes.\n"
   ]
  },
  {
   "cell_type": "code",
   "execution_count": 5,
   "id": "75ba3baf-0e09-44e6-beb4-334867885d31",
   "metadata": {},
   "outputs": [],
   "source": [
    "from tqdm import tqdm\n",
    "from pathlib import Path\n",
    "import gzip\n",
    "import ujson\n",
    "\n",
    "data_dir = Path(\"/home/sitinurliza/projects/imap/ooni-data\")\n",
    "\n",
    "def iter_msmts(fp):\n",
    "    with gzip.open(fp) as in_file:\n",
    "        yield from [ujson.loads(line) for line in in_file]\n",
    "            \n",
    "def iter_jsonl_paths(query):\n",
    "    for p in data_dir.glob('*/*/*/*'):\n",
    "        ts, cc, tn = p.name.split('_')\n",
    "        tn = tn.split('.')[0]\n",
    "        ts = datetime.strptime(ts, '%Y%m%d%H')\n",
    "        if query.get('probe_cc') and cc != query['probe_cc']:\n",
    "            continue\n",
    "        if query.get('test_name') and tn != query['test_name'].replace('_', ''):\n",
    "            continue\n",
    "        if query.get('since') and parse_date(query['since']) >= ts:\n",
    "            continue\n",
    "        if query.get('until') and parse_date(query['until']) <= ts:\n",
    "            continue\n",
    "        yield p\n",
    "        \n",
    "def iter_raw_measurements(query):\n",
    "    path_list = list(iter_jsonl_paths(query))\n",
    "    print(f\"processing {len(path_list)}\")\n",
    "    for fp in tqdm(path_list):\n",
    "        for msmt in iter_msmts(fp):\n",
    "            if query.get('probe_asn') and msmt['probe_asn'] != query['probe_asn']:\n",
    "                continue\n",
    "            if query.get('domain'):\n",
    "                domain = urlparse(msmt['input']).netloc\n",
    "                if domain != query['domain']:\n",
    "                    continue\n",
    "            yield msmt"
   ]
  },
  {
   "cell_type": "code",
   "execution_count": 6,
   "id": "6439fc37-2715-4cc1-9b50-a4754aebf955",
   "metadata": {},
   "outputs": [],
   "source": [
    "import csv\n",
    "\n",
    "def msmt_to_csv(query, output_file=\"output.csv\"):\n",
    "    with open(output_file, 'w') as output_file:\n",
    "        csv_writer = None\n",
    "        for msmt in iter_raw_measurements(query):\n",
    "            msmt_meta = get_measurement_meta(msmt)\n",
    "            if csv_writer is None:\n",
    "                fieldnames = msmt_meta.keys()\n",
    "                csv_writer = csv.DictWriter(output_file, fieldnames=fieldnames)\n",
    "                csv_writer.writeheader()\n",
    "            csv_writer.writerow(msmt_meta)"
   ]
  },
  {
   "cell_type": "code",
   "execution_count": 7,
   "id": "898e8ebf-bce6-4a7e-905a-0563460b539d",
   "metadata": {},
   "outputs": [],
   "source": [
    "def get_msmt_df(query):\n",
    "    msmt_list = []\n",
    "    for msmt in iter_raw_measurements(query):\n",
    "        mdf = pd.DataFrame([get_measurement_meta(msmt)])\n",
    "        msmt_list.append(mdf)\n",
    "    return pd.concat(msmt_list, ignore_index=True)"
   ]
  },
  {
   "cell_type": "markdown",
   "id": "5dbaf33a-5686-4c16-8c9c-380fa55f0302",
   "metadata": {},
   "source": [
    "Here we do the actual conversion to CSV. Edit the dates and country codes accordingly."
   ]
  },
  {
   "cell_type": "code",
   "execution_count": null,
   "id": "5a5546b9-d164-4f14-a115-ff14cfe675b4",
   "metadata": {},
   "outputs": [],
   "source": [
    "msmt_to_csv({\n",
    "    'since': '2022-07-01',\n",
    "    'until': '2022-12-31',\n",
    "    'probe_cc': 'VN',\n",
    "    'test_name': 'web_connectivity'\n",
    "}, output_file=\"ooni-data-wc-vietnam-2023-1.csv\")"
   ]
  },
  {
   "cell_type": "code",
   "execution_count": null,
   "id": "3c27e7c3",
   "metadata": {},
   "outputs": [],
   "source": [
    "msmt_to_csv({\n",
    "    'since': '2023-01-01',\n",
    "    'until': '2023-05-31',\n",
    "    'probe_cc': 'VN',\n",
    "    'test_name': 'web_connectivity'\n",
    "}, output_file=\"ooni-data-wc-vietnam-2023-2.csv\")"
   ]
  },
  {
   "cell_type": "code",
   "execution_count": 10,
   "id": "7ae13592",
   "metadata": {},
   "outputs": [
    {
     "name": "stdout",
     "output_type": "stream",
     "text": [
      "processing 647\n"
     ]
    },
    {
     "name": "stderr",
     "output_type": "stream",
     "text": [
      "100%|████████████████████████████████████████████████████████████████████████████████| 647/647 [13:27<00:00,  1.25s/it]\n"
     ]
    }
   ],
   "source": [
    "msmt_to_csv({\n",
    "    'since': '2023-06-01',\n",
    "    'until': '2023-07-01',\n",
    "    'probe_cc': 'VN',\n",
    "    'test_name': 'web_connectivity'\n",
    "}, output_file=\"ooni-data-wc-vietnam-2023-3.csv\")"
   ]
  },
  {
   "cell_type": "markdown",
   "id": "0cb1e94e-746b-42cd-898f-6f46122e65d1",
   "metadata": {},
   "source": [
    "We then load the CSV file in memory as a pandas dataframe for more analysis"
   ]
  },
  {
   "cell_type": "code",
   "execution_count": 8,
   "id": "14f0dfcf",
   "metadata": {},
   "outputs": [],
   "source": [
    "df_vn_1 = pd.read_csv('ooni-data-wc-vietnam-2023-1.csv')"
   ]
  },
  {
   "cell_type": "code",
   "execution_count": 9,
   "id": "626293de",
   "metadata": {},
   "outputs": [],
   "source": [
    "df_vn_2 = pd.read_csv('ooni-data-wc-vietnam-2023-2.csv')"
   ]
  },
  {
   "cell_type": "code",
   "execution_count": 10,
   "id": "824d912e",
   "metadata": {},
   "outputs": [],
   "source": [
    "df_vn_3 = pd.read_csv('ooni-data-wc-vietnam-2023-3.csv')"
   ]
  },
  {
   "cell_type": "code",
   "execution_count": 11,
   "id": "a838e797",
   "metadata": {},
   "outputs": [],
   "source": [
    "df_vn = pd.concat([df_vn_1,df_vn_2,df_vn_3])"
   ]
  },
  {
   "cell_type": "code",
   "execution_count": 12,
   "id": "d7c05cfc-c6bc-48d3-b4d0-7ec3f85eecef",
   "metadata": {},
   "outputs": [
    {
     "data": {
      "text/plain": [
       "1213107"
      ]
     },
     "execution_count": 12,
     "metadata": {},
     "output_type": "execute_result"
    }
   ],
   "source": [
    "len(df_vn)"
   ]
  },
  {
   "cell_type": "code",
   "execution_count": 13,
   "id": "492cf489",
   "metadata": {},
   "outputs": [
    {
     "data": {
      "text/plain": [
       "['input',\n",
       " 'measurement_start_time',\n",
       " 'probe_asn',\n",
       " 'probe_cc',\n",
       " 'probe_network_name',\n",
       " 'report_id',\n",
       " 'resolver_asn',\n",
       " 'resolver_ip',\n",
       " 'resolver_network_name',\n",
       " 'software_name',\n",
       " 'software_version',\n",
       " 'test_name',\n",
       " 'test_runtime',\n",
       " 'test_version',\n",
       " 'network_type',\n",
       " 'origin',\n",
       " 'platform',\n",
       " 'dns_resolved_ips',\n",
       " 'network_events',\n",
       " 'control_failure',\n",
       " 'control_measurement',\n",
       " 'blocking',\n",
       " 'http_experiment_failure',\n",
       " 'dns_experiment_failure',\n",
       " 'http_title',\n",
       " 'http_meta_title',\n",
       " 'http_body_md5',\n",
       " 'tcp_connect']"
      ]
     },
     "execution_count": 13,
     "metadata": {},
     "output_type": "execute_result"
    }
   ],
   "source": [
    "list(df_vn)"
   ]
  },
  {
   "cell_type": "markdown",
   "id": "fa0fb4a9",
   "metadata": {},
   "source": [
    "### Adding columns"
   ]
  },
  {
   "cell_type": "markdown",
   "id": "9616a5be-8915-45af-93dd-4ad6e0d01c82",
   "metadata": {},
   "source": [
    "When dealing with websites, we generally care to look at data from a domain centric perspective. This allows us to group together URLs that are of the same domain, but that have different paths.\n",
    "\n",
    "Since the raw dataset doesn't include the `domain` we add this column here."
   ]
  },
  {
   "cell_type": "code",
   "execution_count": 14,
   "id": "0adbc67f-adf9-4d7b-aa47-93b91b696b66",
   "metadata": {},
   "outputs": [
    {
     "name": "stderr",
     "output_type": "stream",
     "text": [
      "100%|█████████████████████████████████████████████████████████████████████| 1213107/1213107 [00:17<00:00, 68335.26it/s]\n"
     ]
    }
   ],
   "source": [
    "def parse_domain(url):\n",
    "    try:\n",
    "        return urlparse(url).netloc\n",
    "    except:\n",
    "        print(f'invalid url {url}')\n",
    "        return ''\n",
    "df_vn['domain'] = df_vn['input'].progress_apply(parse_domain)"
   ]
  },
  {
   "cell_type": "code",
   "execution_count": 18,
   "id": "c15eadb9-8149-4d80-b011-f9c72a59dbb2",
   "metadata": {},
   "outputs": [
    {
     "data": {
      "text/plain": [
       "6.783563243225217"
      ]
     },
     "execution_count": 18,
     "metadata": {},
     "output_type": "execute_result"
    }
   ],
   "source": [
    "df_vn.memory_usage(deep=True).sum()/1024**3"
   ]
  },
  {
   "cell_type": "code",
   "execution_count": 15,
   "id": "f483fe0a",
   "metadata": {},
   "outputs": [],
   "source": [
    "pd.set_option('display.max_colwidth', None)\n",
    "df_vn['explorer_url'] = \"https://explorer.ooni.org/measurement/\" + df_vn['report_id'] + \"?input=\" + df_vn['input']"
   ]
  },
  {
   "cell_type": "markdown",
   "id": "c4e9ef69",
   "metadata": {},
   "source": [
    "### Listing out all probe_asn names"
   ]
  },
  {
   "cell_type": "code",
   "execution_count": 21,
   "id": "22dcdfbf",
   "metadata": {},
   "outputs": [],
   "source": [
    "df_vn[['probe_asn', 'probe_network_name']].drop_duplicates(subset=['probe_asn']).to_csv('probe_names_VN_2023.csv')"
   ]
  },
  {
   "cell_type": "markdown",
   "id": "9cf49c12-b6c0-4c0c-af15-9872f28fe712",
   "metadata": {},
   "source": [
    "### Hunting for blocking fingerprints\n",
    "\n",
    "We can have a very high confidence that the blocking is intentional (and not caused by transient network failures), when it fits in the following classes:\n",
    "- DNS level interference\n",
    "- HTTP level intereference\n",
    "- TLS MITM\n",
    "\n",
    "\n",
    "The first two classes, though, are susceptive to false positives, because sometimes the IP returned in a DNS query can differ based on the geographical location (think CDNs) and sometimes the content of a webpage can also vary from request to request (think the homepage of a news site).\n",
    "\n",
    "On the other hand, once we find a blocking fingerprint, we can with great confidence claim that access to that particular site is being restricted. For example we might notice that when a site is blocked on a particular network, the DNS query always returns a given IP address or we might know that the HTTP title for a blockpage is always \"Access to this website is denied\".\n",
    "\n",
    "Our goal now to come up with some heuristics that will allow us to, in a way, hunt for these blockpage fingerprints in the big dataset that we have available."
   ]
  },
  {
   "cell_type": "markdown",
   "id": "7ce9e1ba-6888-44a4-bc74-3daaf697f89e",
   "metadata": {},
   "source": [
    "### Same title, but different page\n",
    "\n",
    "One heuristic which we can apply to spotting blockpages, is that we can say that a web page that looks exactly the same for many different sites. Based on this fairly simple intuition, we can look for blockpage fingerprints by just counting for the number of domains that share the same HTTP title tag."
   ]
  },
  {
   "cell_type": "code",
   "execution_count": 15,
   "id": "1b97c56c-2da8-4987-aabd-191f6fb5003a",
   "metadata": {},
   "outputs": [],
   "source": [
    "title_domain_count = df_vn[\n",
    "    df_vn['blocking'] == 'http-diff'\n",
    "].groupby('http_title')['domain'].nunique().sort_values().reset_index()"
   ]
  },
  {
   "cell_type": "markdown",
   "id": "4881770f-2b65-4574-88c4-ac6611ee02cf",
   "metadata": {},
   "source": [
    "As we can see in the breakdown below, all these blockpage fingerprints look fairly suspicious and are quite likely to be an indication of blocking. Some of them, however, might be signs of server-side blocking (ex. Geoblocking or DDOS prevention). This is why it's best, to obtain a high degree of accuracy, to investigate these manually and add them to a fingerprint database.\n",
    "\n",
    "This is a shared effort amonst censorship research projects, for example you can find a repo of known blocking fingerprints maintained by the CitizenLab here: https://github.com/citizenlab/filtering-annotations "
   ]
  },
  {
   "cell_type": "code",
   "execution_count": 16,
   "id": "8bf95466-f879-4187-a670-8f38ab86c95f",
   "metadata": {},
   "outputs": [
    {
     "data": {
      "text/html": [
       "<div>\n",
       "<style scoped>\n",
       "    .dataframe tbody tr th:only-of-type {\n",
       "        vertical-align: middle;\n",
       "    }\n",
       "\n",
       "    .dataframe tbody tr th {\n",
       "        vertical-align: top;\n",
       "    }\n",
       "\n",
       "    .dataframe thead th {\n",
       "        text-align: right;\n",
       "    }\n",
       "</style>\n",
       "<table border=\"1\" class=\"dataframe\">\n",
       "  <thead>\n",
       "    <tr style=\"text-align: right;\">\n",
       "      <th></th>\n",
       "      <th>http_title</th>\n",
       "      <th>domain</th>\n",
       "    </tr>\n",
       "  </thead>\n",
       "  <tbody>\n",
       "    <tr>\n",
       "      <th>53</th>\n",
       "      <td>Application Blocked</td>\n",
       "      <td>9</td>\n",
       "    </tr>\n",
       "    <tr>\n",
       "      <th>54</th>\n",
       "      <td>404 Page</td>\n",
       "      <td>26</td>\n",
       "    </tr>\n",
       "  </tbody>\n",
       "</table>\n",
       "</div>"
      ],
      "text/plain": [
       "             http_title  domain\n",
       "53  Application Blocked       9\n",
       "54             404 Page      26"
      ]
     },
     "execution_count": 16,
     "metadata": {},
     "output_type": "execute_result"
    }
   ],
   "source": [
    "title_domain_count[\n",
    "    title_domain_count['domain'] > 8\n",
    "]"
   ]
  },
  {
   "cell_type": "markdown",
   "id": "bd33a5d0-bed6-4d8f-a6e1-9cf1337785b3",
   "metadata": {},
   "source": [
    "Once we have confirmed that a fingerprint is known to implement blocking, we can use it to which domains are being restricted."
   ]
  },
  {
   "cell_type": "code",
   "execution_count": 17,
   "id": "3d93db70",
   "metadata": {},
   "outputs": [
    {
     "data": {
      "text/plain": [
       "['Application Blocked', '404 Page']"
      ]
     },
     "execution_count": 17,
     "metadata": {},
     "output_type": "execute_result"
    }
   ],
   "source": [
    "http_title_suspicious = title_domain_count[title_domain_count['domain'] > 8]['http_title'].values.tolist()\n",
    "http_title_suspicious"
   ]
  },
  {
   "cell_type": "code",
   "execution_count": 18,
   "id": "33b9c4c8",
   "metadata": {},
   "outputs": [],
   "source": [
    "df_vn[df_vn['http_title'].isin(http_title_suspicious)].drop_duplicates(subset=['http_title']).to_csv('http_title_suspicious_VN_2023.csv')"
   ]
  },
  {
   "cell_type": "code",
   "execution_count": 19,
   "id": "50ffdf95",
   "metadata": {},
   "outputs": [],
   "source": [
    "body_domain_count = df_vn[\n",
    "    df_vn['blocking'] == 'http-diff'\n",
    "].groupby('http_body_md5')['domain'].nunique().sort_values().reset_index()"
   ]
  },
  {
   "cell_type": "code",
   "execution_count": 20,
   "id": "837d687c",
   "metadata": {
    "scrolled": true
   },
   "outputs": [
    {
     "data": {
      "text/html": [
       "<div>\n",
       "<style scoped>\n",
       "    .dataframe tbody tr th:only-of-type {\n",
       "        vertical-align: middle;\n",
       "    }\n",
       "\n",
       "    .dataframe tbody tr th {\n",
       "        vertical-align: top;\n",
       "    }\n",
       "\n",
       "    .dataframe thead th {\n",
       "        text-align: right;\n",
       "    }\n",
       "</style>\n",
       "<table border=\"1\" class=\"dataframe\">\n",
       "  <thead>\n",
       "    <tr style=\"text-align: right;\">\n",
       "      <th></th>\n",
       "      <th>http_body_md5</th>\n",
       "      <th>domain</th>\n",
       "    </tr>\n",
       "  </thead>\n",
       "  <tbody>\n",
       "    <tr>\n",
       "      <th>1476</th>\n",
       "      <td>cf75515dd672ed755dc164cfd744233a</td>\n",
       "      <td>9</td>\n",
       "    </tr>\n",
       "    <tr>\n",
       "      <th>1477</th>\n",
       "      <td>8bf1ba2efdd97931af582880c53b5ab5</td>\n",
       "      <td>12</td>\n",
       "    </tr>\n",
       "    <tr>\n",
       "      <th>1478</th>\n",
       "      <td>fa9b1e3c340b5202c8d814fc31d5fed1</td>\n",
       "      <td>26</td>\n",
       "    </tr>\n",
       "    <tr>\n",
       "      <th>1479</th>\n",
       "      <td>921b871646876227984ce9772bff3ea3</td>\n",
       "      <td>28</td>\n",
       "    </tr>\n",
       "  </tbody>\n",
       "</table>\n",
       "</div>"
      ],
      "text/plain": [
       "                         http_body_md5  domain\n",
       "1476  cf75515dd672ed755dc164cfd744233a       9\n",
       "1477  8bf1ba2efdd97931af582880c53b5ab5      12\n",
       "1478  fa9b1e3c340b5202c8d814fc31d5fed1      26\n",
       "1479  921b871646876227984ce9772bff3ea3      28"
      ]
     },
     "execution_count": 20,
     "metadata": {},
     "output_type": "execute_result"
    }
   ],
   "source": [
    "pd.set_option('display.max_colwidth', None)\n",
    "\n",
    "body_domain_count[\n",
    "    body_domain_count['domain'] > 8\n",
    "]"
   ]
  },
  {
   "cell_type": "code",
   "execution_count": 21,
   "id": "b79d470a",
   "metadata": {},
   "outputs": [
    {
     "data": {
      "text/plain": [
       "['cf75515dd672ed755dc164cfd744233a',\n",
       " '8bf1ba2efdd97931af582880c53b5ab5',\n",
       " 'fa9b1e3c340b5202c8d814fc31d5fed1',\n",
       " '921b871646876227984ce9772bff3ea3']"
      ]
     },
     "execution_count": 21,
     "metadata": {},
     "output_type": "execute_result"
    }
   ],
   "source": [
    "http_body_suspicious = body_domain_count[body_domain_count['domain'] > 8]['http_body_md5'].values.tolist()\n",
    "http_body_suspicious"
   ]
  },
  {
   "cell_type": "code",
   "execution_count": 22,
   "id": "a104f559",
   "metadata": {},
   "outputs": [],
   "source": [
    "df_vn[df_vn['http_body_md5'].isin(http_body_suspicious)].drop_duplicates(subset=['http_body_md5']).to_csv('http_body_suspicious_VN_2023.csv')"
   ]
  },
  {
   "cell_type": "markdown",
   "id": "946144f0-43c1-44c8-987e-9495b96f578f",
   "metadata": {},
   "source": [
    "### DNS level interference\n",
    "\n",
    "We can use a similar heuristics for DNS level interference. The assumption is the same, when we see one IP being mapped to multiple hostnames, it's an indication of it potentially being an IP used to implement blocking.\n",
    "\n",
    "In this case, we need to be careful of false positives that might be caused by the use of CDNs, as these will be hosting multiple sites. In the sections below we can see what techniques we can adopt to reduce these false positives further."
   ]
  },
  {
   "cell_type": "markdown",
   "id": "8fe85118-9a33-4acb-b945-53403165cbe5",
   "metadata": {},
   "source": [
    "We are going to make use of a IP to ASN database for some of our heuristics. In particular we are going to download the one from db-ip, which has a fairly permissive license and is compatible with the maxmind database format."
   ]
  },
  {
   "cell_type": "code",
   "execution_count": 27,
   "id": "dffd5107-536f-4603-8f82-1203e6ccf2d8",
   "metadata": {},
   "outputs": [
    {
     "name": "stdout",
     "output_type": "stream",
     "text": [
      "  % Total    % Received % Xferd  Average Speed   Time    Time     Time  Current\n",
      "                                 Dload  Upload   Total   Spent    Left  Speed\n",
      "100 4031k  100 4031k    0     0   266k      0  0:00:15  0:00:15 --:--:--  304k\n"
     ]
    }
   ],
   "source": [
    "!curl -O https://download.db-ip.com/free/dbip-asn-lite-2023-06.mmdb.gz"
   ]
  },
  {
   "cell_type": "code",
   "execution_count": null,
   "id": "16eb1a3a-2836-4164-b6d0-9c96c175a376",
   "metadata": {},
   "outputs": [],
   "source": [
    "!gunzip dbip-asn-lite-2023-06.mmdb.gz"
   ]
  },
  {
   "cell_type": "code",
   "execution_count": 16,
   "id": "38f87a59-a8c7-4c0c-b0b4-2a228a8af3c1",
   "metadata": {
    "scrolled": true
   },
   "outputs": [],
   "source": [
    "import maxminddb\n",
    "\n",
    "asn_db_path = 'dbip-asn-lite-2023-06.mmdb'\n",
    "def lookup_asn(ip):\n",
    "    with maxminddb.open_database(asn_db_path) as reader:\n",
    "        try:\n",
    "            return reader.get(ip)\n",
    "        # Probably not an IP\n",
    "        except ValueError:\n",
    "            return None"
   ]
  },
  {
   "cell_type": "code",
   "execution_count": 24,
   "id": "11b35948-b9e6-4412-ad56-4859b8ee8f46",
   "metadata": {},
   "outputs": [],
   "source": [
    "dns_resp_sorted = df_vn[\n",
    "    df_vn['blocking'] == 'dns'\n",
    "].groupby('dns_resolved_ips')['domain'].nunique().sort_values().reset_index()"
   ]
  },
  {
   "cell_type": "code",
   "execution_count": 25,
   "id": "b35cb825-4342-476b-aa2d-1721f9ccd7e4",
   "metadata": {},
   "outputs": [
    {
     "data": {
      "text/html": [
       "<div>\n",
       "<style scoped>\n",
       "    .dataframe tbody tr th:only-of-type {\n",
       "        vertical-align: middle;\n",
       "    }\n",
       "\n",
       "    .dataframe tbody tr th {\n",
       "        vertical-align: top;\n",
       "    }\n",
       "\n",
       "    .dataframe thead th {\n",
       "        text-align: right;\n",
       "    }\n",
       "</style>\n",
       "<table border=\"1\" class=\"dataframe\">\n",
       "  <thead>\n",
       "    <tr style=\"text-align: right;\">\n",
       "      <th></th>\n",
       "      <th>dns_resolved_ips</th>\n",
       "      <th>domain</th>\n",
       "    </tr>\n",
       "  </thead>\n",
       "  <tbody>\n",
       "    <tr>\n",
       "      <th>474</th>\n",
       "      <td>['206.253.89.89']</td>\n",
       "      <td>3</td>\n",
       "    </tr>\n",
       "    <tr>\n",
       "      <th>475</th>\n",
       "      <td>['206.253.89.4']</td>\n",
       "      <td>3</td>\n",
       "    </tr>\n",
       "    <tr>\n",
       "      <th>476</th>\n",
       "      <td>['14.225.240.19']</td>\n",
       "      <td>3</td>\n",
       "    </tr>\n",
       "    <tr>\n",
       "      <th>477</th>\n",
       "      <td>['104.103.151.179']</td>\n",
       "      <td>3</td>\n",
       "    </tr>\n",
       "    <tr>\n",
       "      <th>478</th>\n",
       "      <td>['203.162.172.59']</td>\n",
       "      <td>3</td>\n",
       "    </tr>\n",
       "    <tr>\n",
       "      <th>479</th>\n",
       "      <td>['206.253.90.226']</td>\n",
       "      <td>3</td>\n",
       "    </tr>\n",
       "    <tr>\n",
       "      <th>480</th>\n",
       "      <td>['206.253.90.20']</td>\n",
       "      <td>3</td>\n",
       "    </tr>\n",
       "    <tr>\n",
       "      <th>481</th>\n",
       "      <td>['206.253.90.22']</td>\n",
       "      <td>3</td>\n",
       "    </tr>\n",
       "    <tr>\n",
       "      <th>482</th>\n",
       "      <td>['199.15.163.138']</td>\n",
       "      <td>4</td>\n",
       "    </tr>\n",
       "    <tr>\n",
       "      <th>483</th>\n",
       "      <td>['125.212.224.108']</td>\n",
       "      <td>4</td>\n",
       "    </tr>\n",
       "    <tr>\n",
       "      <th>484</th>\n",
       "      <td>['206.253.90.229']</td>\n",
       "      <td>4</td>\n",
       "    </tr>\n",
       "    <tr>\n",
       "      <th>485</th>\n",
       "      <td>['206.253.90.23']</td>\n",
       "      <td>4</td>\n",
       "    </tr>\n",
       "    <tr>\n",
       "      <th>486</th>\n",
       "      <td>['206.253.90.21']</td>\n",
       "      <td>4</td>\n",
       "    </tr>\n",
       "    <tr>\n",
       "      <th>487</th>\n",
       "      <td>['206.253.90.24']</td>\n",
       "      <td>4</td>\n",
       "    </tr>\n",
       "    <tr>\n",
       "      <th>488</th>\n",
       "      <td>['206.253.90.25']</td>\n",
       "      <td>4</td>\n",
       "    </tr>\n",
       "    <tr>\n",
       "      <th>489</th>\n",
       "      <td>['206.253.90.224']</td>\n",
       "      <td>4</td>\n",
       "    </tr>\n",
       "    <tr>\n",
       "      <th>490</th>\n",
       "      <td>['192.198.1.1']</td>\n",
       "      <td>4</td>\n",
       "    </tr>\n",
       "    <tr>\n",
       "      <th>491</th>\n",
       "      <td>['103.192.236.94']</td>\n",
       "      <td>5</td>\n",
       "    </tr>\n",
       "    <tr>\n",
       "      <th>492</th>\n",
       "      <td>['206.253.89.164']</td>\n",
       "      <td>5</td>\n",
       "    </tr>\n",
       "    <tr>\n",
       "      <th>493</th>\n",
       "      <td>['206.253.89.166']</td>\n",
       "      <td>5</td>\n",
       "    </tr>\n",
       "    <tr>\n",
       "      <th>494</th>\n",
       "      <td>['206.253.89.84']</td>\n",
       "      <td>5</td>\n",
       "    </tr>\n",
       "    <tr>\n",
       "      <th>495</th>\n",
       "      <td>['206.253.89.165']</td>\n",
       "      <td>5</td>\n",
       "    </tr>\n",
       "    <tr>\n",
       "      <th>496</th>\n",
       "      <td>['206.253.89.162']</td>\n",
       "      <td>5</td>\n",
       "    </tr>\n",
       "    <tr>\n",
       "      <th>497</th>\n",
       "      <td>['206.253.89.163']</td>\n",
       "      <td>5</td>\n",
       "    </tr>\n",
       "    <tr>\n",
       "      <th>498</th>\n",
       "      <td>['206.253.89.167']</td>\n",
       "      <td>6</td>\n",
       "    </tr>\n",
       "    <tr>\n",
       "      <th>499</th>\n",
       "      <td>['125.212.193.174']</td>\n",
       "      <td>10</td>\n",
       "    </tr>\n",
       "    <tr>\n",
       "      <th>500</th>\n",
       "      <td>['206.253.91.146']</td>\n",
       "      <td>11</td>\n",
       "    </tr>\n",
       "    <tr>\n",
       "      <th>501</th>\n",
       "      <td>['206.253.91.147']</td>\n",
       "      <td>12</td>\n",
       "    </tr>\n",
       "    <tr>\n",
       "      <th>502</th>\n",
       "      <td>['206.253.91.143']</td>\n",
       "      <td>13</td>\n",
       "    </tr>\n",
       "    <tr>\n",
       "      <th>503</th>\n",
       "      <td>['206.253.91.145']</td>\n",
       "      <td>13</td>\n",
       "    </tr>\n",
       "    <tr>\n",
       "      <th>504</th>\n",
       "      <td>['206.253.91.142']</td>\n",
       "      <td>14</td>\n",
       "    </tr>\n",
       "    <tr>\n",
       "      <th>505</th>\n",
       "      <td>['206.253.91.144']</td>\n",
       "      <td>15</td>\n",
       "    </tr>\n",
       "    <tr>\n",
       "      <th>506</th>\n",
       "      <td>['206.253.89.220']</td>\n",
       "      <td>16</td>\n",
       "    </tr>\n",
       "    <tr>\n",
       "      <th>507</th>\n",
       "      <td>['206.253.89.217']</td>\n",
       "      <td>21</td>\n",
       "    </tr>\n",
       "    <tr>\n",
       "      <th>508</th>\n",
       "      <td>['206.253.89.216']</td>\n",
       "      <td>22</td>\n",
       "    </tr>\n",
       "    <tr>\n",
       "      <th>509</th>\n",
       "      <td>['206.253.89.218']</td>\n",
       "      <td>22</td>\n",
       "    </tr>\n",
       "    <tr>\n",
       "      <th>510</th>\n",
       "      <td>['206.253.89.221']</td>\n",
       "      <td>23</td>\n",
       "    </tr>\n",
       "    <tr>\n",
       "      <th>511</th>\n",
       "      <td>['206.253.89.219']</td>\n",
       "      <td>25</td>\n",
       "    </tr>\n",
       "    <tr>\n",
       "      <th>512</th>\n",
       "      <td>['206.253.89.38']</td>\n",
       "      <td>46</td>\n",
       "    </tr>\n",
       "    <tr>\n",
       "      <th>513</th>\n",
       "      <td>['206.253.91.176']</td>\n",
       "      <td>47</td>\n",
       "    </tr>\n",
       "    <tr>\n",
       "      <th>514</th>\n",
       "      <td>['206.253.91.179']</td>\n",
       "      <td>48</td>\n",
       "    </tr>\n",
       "    <tr>\n",
       "      <th>515</th>\n",
       "      <td>['206.253.89.40']</td>\n",
       "      <td>48</td>\n",
       "    </tr>\n",
       "    <tr>\n",
       "      <th>516</th>\n",
       "      <td>['206.253.91.177']</td>\n",
       "      <td>48</td>\n",
       "    </tr>\n",
       "    <tr>\n",
       "      <th>517</th>\n",
       "      <td>['206.253.89.39']</td>\n",
       "      <td>49</td>\n",
       "    </tr>\n",
       "    <tr>\n",
       "      <th>518</th>\n",
       "      <td>['206.253.89.41']</td>\n",
       "      <td>49</td>\n",
       "    </tr>\n",
       "    <tr>\n",
       "      <th>519</th>\n",
       "      <td>['206.253.91.178']</td>\n",
       "      <td>51</td>\n",
       "    </tr>\n",
       "    <tr>\n",
       "      <th>520</th>\n",
       "      <td>['206.253.89.36']</td>\n",
       "      <td>52</td>\n",
       "    </tr>\n",
       "    <tr>\n",
       "      <th>521</th>\n",
       "      <td>['125.235.4.59']</td>\n",
       "      <td>54</td>\n",
       "    </tr>\n",
       "    <tr>\n",
       "      <th>522</th>\n",
       "      <td>['0.0.0.0']</td>\n",
       "      <td>56</td>\n",
       "    </tr>\n",
       "    <tr>\n",
       "      <th>523</th>\n",
       "      <td>['206.253.91.175']</td>\n",
       "      <td>57</td>\n",
       "    </tr>\n",
       "    <tr>\n",
       "      <th>524</th>\n",
       "      <td>['206.253.91.180']</td>\n",
       "      <td>58</td>\n",
       "    </tr>\n",
       "    <tr>\n",
       "      <th>525</th>\n",
       "      <td>['206.253.89.37']</td>\n",
       "      <td>58</td>\n",
       "    </tr>\n",
       "    <tr>\n",
       "      <th>526</th>\n",
       "      <td>['103.199.79.14']</td>\n",
       "      <td>96</td>\n",
       "    </tr>\n",
       "    <tr>\n",
       "      <th>527</th>\n",
       "      <td>['127.0.0.1']</td>\n",
       "      <td>136</td>\n",
       "    </tr>\n",
       "    <tr>\n",
       "      <th>528</th>\n",
       "      <td>[]</td>\n",
       "      <td>283</td>\n",
       "    </tr>\n",
       "  </tbody>\n",
       "</table>\n",
       "</div>"
      ],
      "text/plain": [
       "        dns_resolved_ips  domain\n",
       "474    ['206.253.89.89']       3\n",
       "475     ['206.253.89.4']       3\n",
       "476    ['14.225.240.19']       3\n",
       "477  ['104.103.151.179']       3\n",
       "478   ['203.162.172.59']       3\n",
       "479   ['206.253.90.226']       3\n",
       "480    ['206.253.90.20']       3\n",
       "481    ['206.253.90.22']       3\n",
       "482   ['199.15.163.138']       4\n",
       "483  ['125.212.224.108']       4\n",
       "484   ['206.253.90.229']       4\n",
       "485    ['206.253.90.23']       4\n",
       "486    ['206.253.90.21']       4\n",
       "487    ['206.253.90.24']       4\n",
       "488    ['206.253.90.25']       4\n",
       "489   ['206.253.90.224']       4\n",
       "490      ['192.198.1.1']       4\n",
       "491   ['103.192.236.94']       5\n",
       "492   ['206.253.89.164']       5\n",
       "493   ['206.253.89.166']       5\n",
       "494    ['206.253.89.84']       5\n",
       "495   ['206.253.89.165']       5\n",
       "496   ['206.253.89.162']       5\n",
       "497   ['206.253.89.163']       5\n",
       "498   ['206.253.89.167']       6\n",
       "499  ['125.212.193.174']      10\n",
       "500   ['206.253.91.146']      11\n",
       "501   ['206.253.91.147']      12\n",
       "502   ['206.253.91.143']      13\n",
       "503   ['206.253.91.145']      13\n",
       "504   ['206.253.91.142']      14\n",
       "505   ['206.253.91.144']      15\n",
       "506   ['206.253.89.220']      16\n",
       "507   ['206.253.89.217']      21\n",
       "508   ['206.253.89.216']      22\n",
       "509   ['206.253.89.218']      22\n",
       "510   ['206.253.89.221']      23\n",
       "511   ['206.253.89.219']      25\n",
       "512    ['206.253.89.38']      46\n",
       "513   ['206.253.91.176']      47\n",
       "514   ['206.253.91.179']      48\n",
       "515    ['206.253.89.40']      48\n",
       "516   ['206.253.91.177']      48\n",
       "517    ['206.253.89.39']      49\n",
       "518    ['206.253.89.41']      49\n",
       "519   ['206.253.91.178']      51\n",
       "520    ['206.253.89.36']      52\n",
       "521     ['125.235.4.59']      54\n",
       "522          ['0.0.0.0']      56\n",
       "523   ['206.253.91.175']      57\n",
       "524   ['206.253.91.180']      58\n",
       "525    ['206.253.89.37']      58\n",
       "526    ['103.199.79.14']      96\n",
       "527        ['127.0.0.1']     136\n",
       "528                   []     283"
      ]
     },
     "execution_count": 25,
     "metadata": {},
     "output_type": "execute_result"
    }
   ],
   "source": [
    "dns_resp_sorted[\n",
    "    dns_resp_sorted['domain'] > 2\n",
    "]"
   ]
  },
  {
   "cell_type": "code",
   "execution_count": 26,
   "id": "e494cca9-9041-4d07-8e7d-fe1da135ed1c",
   "metadata": {},
   "outputs": [
    {
     "data": {
      "text/html": [
       "<div>\n",
       "<style scoped>\n",
       "    .dataframe tbody tr th:only-of-type {\n",
       "        vertical-align: middle;\n",
       "    }\n",
       "\n",
       "    .dataframe tbody tr th {\n",
       "        vertical-align: top;\n",
       "    }\n",
       "\n",
       "    .dataframe thead th {\n",
       "        text-align: right;\n",
       "    }\n",
       "</style>\n",
       "<table border=\"1\" class=\"dataframe\">\n",
       "  <thead>\n",
       "    <tr style=\"text-align: right;\">\n",
       "      <th></th>\n",
       "      <th>dns_resolved_ips</th>\n",
       "      <th>domain</th>\n",
       "    </tr>\n",
       "  </thead>\n",
       "  <tbody>\n",
       "    <tr>\n",
       "      <th>500</th>\n",
       "      <td>['206.253.91.146']</td>\n",
       "      <td>11</td>\n",
       "    </tr>\n",
       "    <tr>\n",
       "      <th>501</th>\n",
       "      <td>['206.253.91.147']</td>\n",
       "      <td>12</td>\n",
       "    </tr>\n",
       "    <tr>\n",
       "      <th>502</th>\n",
       "      <td>['206.253.91.143']</td>\n",
       "      <td>13</td>\n",
       "    </tr>\n",
       "    <tr>\n",
       "      <th>503</th>\n",
       "      <td>['206.253.91.145']</td>\n",
       "      <td>13</td>\n",
       "    </tr>\n",
       "    <tr>\n",
       "      <th>504</th>\n",
       "      <td>['206.253.91.142']</td>\n",
       "      <td>14</td>\n",
       "    </tr>\n",
       "    <tr>\n",
       "      <th>505</th>\n",
       "      <td>['206.253.91.144']</td>\n",
       "      <td>15</td>\n",
       "    </tr>\n",
       "    <tr>\n",
       "      <th>506</th>\n",
       "      <td>['206.253.89.220']</td>\n",
       "      <td>16</td>\n",
       "    </tr>\n",
       "    <tr>\n",
       "      <th>507</th>\n",
       "      <td>['206.253.89.217']</td>\n",
       "      <td>21</td>\n",
       "    </tr>\n",
       "    <tr>\n",
       "      <th>508</th>\n",
       "      <td>['206.253.89.216']</td>\n",
       "      <td>22</td>\n",
       "    </tr>\n",
       "    <tr>\n",
       "      <th>509</th>\n",
       "      <td>['206.253.89.218']</td>\n",
       "      <td>22</td>\n",
       "    </tr>\n",
       "    <tr>\n",
       "      <th>510</th>\n",
       "      <td>['206.253.89.221']</td>\n",
       "      <td>23</td>\n",
       "    </tr>\n",
       "    <tr>\n",
       "      <th>511</th>\n",
       "      <td>['206.253.89.219']</td>\n",
       "      <td>25</td>\n",
       "    </tr>\n",
       "    <tr>\n",
       "      <th>512</th>\n",
       "      <td>['206.253.89.38']</td>\n",
       "      <td>46</td>\n",
       "    </tr>\n",
       "    <tr>\n",
       "      <th>513</th>\n",
       "      <td>['206.253.91.176']</td>\n",
       "      <td>47</td>\n",
       "    </tr>\n",
       "    <tr>\n",
       "      <th>514</th>\n",
       "      <td>['206.253.91.179']</td>\n",
       "      <td>48</td>\n",
       "    </tr>\n",
       "    <tr>\n",
       "      <th>515</th>\n",
       "      <td>['206.253.89.40']</td>\n",
       "      <td>48</td>\n",
       "    </tr>\n",
       "    <tr>\n",
       "      <th>516</th>\n",
       "      <td>['206.253.91.177']</td>\n",
       "      <td>48</td>\n",
       "    </tr>\n",
       "    <tr>\n",
       "      <th>517</th>\n",
       "      <td>['206.253.89.39']</td>\n",
       "      <td>49</td>\n",
       "    </tr>\n",
       "    <tr>\n",
       "      <th>518</th>\n",
       "      <td>['206.253.89.41']</td>\n",
       "      <td>49</td>\n",
       "    </tr>\n",
       "    <tr>\n",
       "      <th>519</th>\n",
       "      <td>['206.253.91.178']</td>\n",
       "      <td>51</td>\n",
       "    </tr>\n",
       "    <tr>\n",
       "      <th>520</th>\n",
       "      <td>['206.253.89.36']</td>\n",
       "      <td>52</td>\n",
       "    </tr>\n",
       "    <tr>\n",
       "      <th>521</th>\n",
       "      <td>['125.235.4.59']</td>\n",
       "      <td>54</td>\n",
       "    </tr>\n",
       "    <tr>\n",
       "      <th>522</th>\n",
       "      <td>['0.0.0.0']</td>\n",
       "      <td>56</td>\n",
       "    </tr>\n",
       "    <tr>\n",
       "      <th>523</th>\n",
       "      <td>['206.253.91.175']</td>\n",
       "      <td>57</td>\n",
       "    </tr>\n",
       "    <tr>\n",
       "      <th>524</th>\n",
       "      <td>['206.253.91.180']</td>\n",
       "      <td>58</td>\n",
       "    </tr>\n",
       "    <tr>\n",
       "      <th>525</th>\n",
       "      <td>['206.253.89.37']</td>\n",
       "      <td>58</td>\n",
       "    </tr>\n",
       "    <tr>\n",
       "      <th>526</th>\n",
       "      <td>['103.199.79.14']</td>\n",
       "      <td>96</td>\n",
       "    </tr>\n",
       "    <tr>\n",
       "      <th>527</th>\n",
       "      <td>['127.0.0.1']</td>\n",
       "      <td>136</td>\n",
       "    </tr>\n",
       "    <tr>\n",
       "      <th>528</th>\n",
       "      <td>[]</td>\n",
       "      <td>283</td>\n",
       "    </tr>\n",
       "  </tbody>\n",
       "</table>\n",
       "</div>"
      ],
      "text/plain": [
       "       dns_resolved_ips  domain\n",
       "500  ['206.253.91.146']      11\n",
       "501  ['206.253.91.147']      12\n",
       "502  ['206.253.91.143']      13\n",
       "503  ['206.253.91.145']      13\n",
       "504  ['206.253.91.142']      14\n",
       "505  ['206.253.91.144']      15\n",
       "506  ['206.253.89.220']      16\n",
       "507  ['206.253.89.217']      21\n",
       "508  ['206.253.89.216']      22\n",
       "509  ['206.253.89.218']      22\n",
       "510  ['206.253.89.221']      23\n",
       "511  ['206.253.89.219']      25\n",
       "512   ['206.253.89.38']      46\n",
       "513  ['206.253.91.176']      47\n",
       "514  ['206.253.91.179']      48\n",
       "515   ['206.253.89.40']      48\n",
       "516  ['206.253.91.177']      48\n",
       "517   ['206.253.89.39']      49\n",
       "518   ['206.253.89.41']      49\n",
       "519  ['206.253.91.178']      51\n",
       "520   ['206.253.89.36']      52\n",
       "521    ['125.235.4.59']      54\n",
       "522         ['0.0.0.0']      56\n",
       "523  ['206.253.91.175']      57\n",
       "524  ['206.253.91.180']      58\n",
       "525   ['206.253.89.37']      58\n",
       "526   ['103.199.79.14']      96\n",
       "527       ['127.0.0.1']     136\n",
       "528                  []     283"
      ]
     },
     "execution_count": 26,
     "metadata": {},
     "output_type": "execute_result"
    }
   ],
   "source": [
    "dns_resp_sorted[\n",
    "    dns_resp_sorted['domain'] > 10\n",
    "]"
   ]
  },
  {
   "cell_type": "code",
   "execution_count": 28,
   "id": "7c198b2c",
   "metadata": {},
   "outputs": [
    {
     "data": {
      "text/plain": [
       "[\"['206.253.91.146']\",\n",
       " \"['206.253.91.147']\",\n",
       " \"['206.253.91.143']\",\n",
       " \"['206.253.91.145']\",\n",
       " \"['206.253.91.142']\",\n",
       " \"['206.253.91.144']\",\n",
       " \"['206.253.89.220']\",\n",
       " \"['206.253.89.217']\",\n",
       " \"['206.253.89.216']\",\n",
       " \"['206.253.89.218']\",\n",
       " \"['206.253.89.221']\",\n",
       " \"['206.253.89.219']\",\n",
       " \"['206.253.89.38']\",\n",
       " \"['206.253.91.176']\",\n",
       " \"['206.253.91.179']\",\n",
       " \"['206.253.89.40']\",\n",
       " \"['206.253.91.177']\",\n",
       " \"['206.253.89.39']\",\n",
       " \"['206.253.89.41']\",\n",
       " \"['206.253.91.178']\",\n",
       " \"['206.253.89.36']\",\n",
       " \"['125.235.4.59']\",\n",
       " \"['0.0.0.0']\",\n",
       " \"['206.253.91.175']\",\n",
       " \"['206.253.91.180']\",\n",
       " \"['206.253.89.37']\",\n",
       " \"['103.199.79.14']\",\n",
       " \"['127.0.0.1']\",\n",
       " '[]']"
      ]
     },
     "execution_count": 28,
     "metadata": {},
     "output_type": "execute_result"
    }
   ],
   "source": [
    "dns_suspicious = dns_resp_sorted[dns_resp_sorted['domain'] > 10]['dns_resolved_ips'].values.tolist()\n",
    "dns_suspicious"
   ]
  },
  {
   "cell_type": "code",
   "execution_count": 29,
   "id": "fb31cadf",
   "metadata": {},
   "outputs": [],
   "source": [
    "df_vn[df_vn['dns_resolved_ips'].isin(dns_suspicious)].drop_duplicates(subset=['dns_resolved_ips', 'probe_asn']).to_csv('dns_suspicious_VN_2023.csv')"
   ]
  },
  {
   "cell_type": "markdown",
   "id": "79b97d53-57bc-4862-aeff-3ce8c7f20c30",
   "metadata": {},
   "source": [
    "### DNS inconsistency false positive removal\n",
    "\n",
    "To understand if what we are looking at is a real blocking IP or not, we can use the following heuristics:\n",
    "\n",
    "1. Does the IP in question have a PTR record pointing to something that looks like a blockpage (ex. a hostname that is related to the ISP)\n",
    "2. What information can we get about the IP by doing a whois lookup\n",
    "3. Is the ASN of the IP the same as the network where the measurement was collected\n",
    "4. Do we get a valid TLS certificate for one of the domains in question when doing a TLS handshake and specifying the SNI\n",
    "\n",
    "Using these 4 conditions, we are generally able to understand if it's in fact a blocking IP or not"
   ]
  },
  {
   "cell_type": "markdown",
   "id": "a87f65c8-b17f-49ec-9ab2-a8d497cc3e1d",
   "metadata": {},
   "source": [
    "### Categorizing IPs into confirmed positives and false positives, as well as http titles that are confirmed positives..."
   ]
  },
  {
   "cell_type": "code",
   "execution_count": 17,
   "id": "77d8a03e-1a05-4b2d-94bd-71c9a8c61dbd",
   "metadata": {},
   "outputs": [],
   "source": [
    "confirmed_ips = [\n",
    "    '125.235.4.59',\n",
    "    '103.199.79.14'\n",
    "]\n",
    "\n",
    "false_positive_ips = [\n",
    "    '206.253.91.142',\n",
    "    '206.253.91.146'\n",
    "]\n",
    "\n",
    "confirmed_titles = [\n",
    "]\n",
    "\n",
    "confirmed_bodies = [\n",
    "    'fa9b1e3c340b5202c8d814fc31d5fed1',\n",
    "    '921b871646876227984ce9772bff3ea3',\n",
    "    '8bf1ba2efdd97931af582880c53b5ab5'\n",
    "]"
   ]
  },
  {
   "cell_type": "code",
   "execution_count": 18,
   "id": "907d1dbc-b9f4-42ae-936a-1e7067506baf",
   "metadata": {},
   "outputs": [],
   "source": [
    "valid_ip_map = {}"
   ]
  },
  {
   "cell_type": "code",
   "execution_count": 19,
   "id": "5882b3a1-29c3-4519-a517-d232f7e39a1d",
   "metadata": {},
   "outputs": [],
   "source": [
    "import certifi\n",
    "import ssl\n",
    "import socket\n",
    "\n",
    "def is_tls_valid(ip, hostname):\n",
    "    if len(df_vn[\n",
    "        (df_vn['dns_resolved_ips'].str.contains(ip, na=False))\n",
    "        & (df_vn['domain'] == hostname)\n",
    "        & (df_vn['input'].str.startswith('https'))\n",
    "        & (df_vn['http_experiment_failure'] == 'None')\n",
    "    ]) > 0:\n",
    "        return True\n",
    "\n",
    "    context = ssl.SSLContext(ssl.PROTOCOL_TLS_CLIENT)\n",
    "    context.load_verify_locations(certifi.where())\n",
    "\n",
    "    with socket.socket(socket.AF_INET, socket.SOCK_STREAM, 0) as sock:\n",
    "        sock.settimeout(1)\n",
    "        with context.wrap_socket(sock, server_hostname=hostname) as conn:\n",
    "            try:\n",
    "                conn.connect((ip, 443))\n",
    "            # TODO: do we care to distinguish these values?\n",
    "            except ssl.SSLCertVerificationError:\n",
    "                return False\n",
    "            except ssl.SSLError:\n",
    "                return False\n",
    "            except socket.timeout:\n",
    "                return False\n",
    "            except socket.error:\n",
    "                return False\n",
    "            except:\n",
    "                return False\n",
    "    return True\n",
    "\n",
    "def is_tls_valid_with_cache(ip, hostname):\n",
    "    key = f\"{ip}{hostname}\"\n",
    "    if key in valid_ip_map:\n",
    "        return valid_ip_map[key]\n",
    "    valid_ip_map[key] = is_tls_valid(ip, hostname)\n",
    "    return valid_ip_map[key]"
   ]
  },
  {
   "cell_type": "markdown",
   "id": "6ba0d045-31c2-4766-8b19-544860051169",
   "metadata": {},
   "source": [
    "### Putting it all together\n",
    "\n",
    "We can then proceed to automating the detection on the full dataset. Our goal is that of recomputing the `blocking` feature for each individual measurement based on our improved heuristics.\n",
    "\n",
    "In addition to the previously discussed DNS and HTTP based blocking, we are going to additionally classify blocking that happens at different layers of the network stack.\n",
    "\n",
    "Specifically, we are going to be using the following identifiers for the various ways in which blocking might occur:\n",
    "\n",
    "#### DNS\n",
    "* dns.confirmed - one of the returned IPs matches an IP known to be used to implement blocking\n",
    "* dns.no_ipv4 - no IPv4 address was returned\n",
    "* dns.bogon - a bogon IP address was returned\n",
    "* dns.nxdomain - we got an NXDOMAIN response from the probe, but we got a valid response from the control vantage point\n",
    "* dns.inconsistent - our DNS consistency heuristics determined the returned IP to be inconsistent\n",
    "\n",
    "#### HTTP\n",
    "\n",
    "These are all blocking types related to plaintext HTTP requests:\n",
    "\n",
    "* http.confirmed - the returned page is a known blockpages\n",
    "* http.http_diff - the page doesn't match based on our page consistency heuristics\n",
    "* http.connection_reset - we got a connection reset to a plaintext HTTP request\n",
    "* http.connection_closed - the connection was closed before all data was transmitted\n",
    "* http.connection_timeout - the connection timed out before we could retrieve all the data \n",
    "* http.generic_failure - this is an generic error from legacy OONI probes\n",
    "\n",
    "#### TLS\n",
    "\n",
    "These are all blocking types related to TLS:\n",
    "\n",
    "* tls.connection_reset - a reset packet was seen after the client sent the ClientHello packet\n",
    "* tls.connection_closed - the connection was closed after the ClientHello\n",
    "* tls.connection_timeout - the connection timed out after the ClientHello\n",
    "    * All of the above can also have the `_after_hello` suffix, indicating that the event happened after the client sent the ClienHello packet\n",
    "* tls.mitm - The DNS is consistent, but the TLS certificate validation failed. This suggest a TLS man-in-the-middle\n",
    "* tls.generic_failure - generic error from legacy OONI probes\n",
    "\n",
    "#### TCP/IP\n",
    "\n",
    "This is when blocking is implemented by targeting the IP address of the host:\n",
    "\n",
    "* tcp.connection_reset - the TCP connect test failed due to a reset packet\n",
    "* tcp.connection_timeout - the TCP connect test failed with a timeout"
   ]
  },
  {
   "cell_type": "code",
   "execution_count": 22,
   "id": "477cde66-7af8-446d-afaa-5e859fc74e1b",
   "metadata": {},
   "outputs": [],
   "source": [
    "from ast import literal_eval\n",
    "import ipaddress\n",
    "\n",
    "def normalize_failure(failure_str):\n",
    "    if \"An existing connection was forcibly closed by the remote host\" in failure_str:\n",
    "        return \"connection_reset\"\n",
    "    if \"No address associated with hostname\" in failure_str:\n",
    "        return \"dns_nxdomain_error\"\n",
    "    return failure_str\n",
    "\n",
    "def is_dns_asns_consistent(dns_resolved_ips, control_measurement, row):\n",
    "    try:\n",
    "        control_addrs = control_measurement['dns']['addrs']\n",
    "        if not control_addrs:\n",
    "            return False\n",
    "        control_asns = set(list(map(lambda e: e['autonomous_system_number'], \n",
    "                           filter(lambda e: e != None, map(lookup_asn, control_addrs)))))\n",
    "        exp_asns = set(list(map(lambda e: e['autonomous_system_number'], \n",
    "                           filter(lambda e: e != None, map(lookup_asn, dns_resolved_ips)))))\n",
    "        if exp_asns.intersection(control_asns):\n",
    "            return True\n",
    "    except KeyError:\n",
    "        # Missing control measurement\n",
    "        return False\n",
    "    return False\n",
    "\n",
    "bogon_ipv4_ranges = [\n",
    "    ipaddress.ip_network(\"0.0.0.0/8\"), # \"This\" network\n",
    "    ipaddress.ip_network(\"10.0.0.0/8\"), # Private-use networks\n",
    "    ipaddress.ip_network(\"100.64.0.0/10\"), # Carrier-grade NAT\n",
    "    ipaddress.ip_network(\"127.0.0.0/8\"), # Loopback\n",
    "    ipaddress.ip_network(\"127.0.53.53\"), # Name collision occurrence\n",
    "    ipaddress.ip_network(\"169.254.0.0/16\"), # Link local\n",
    "    ipaddress.ip_network(\"172.16.0.0/12\"), # Private-use networks\n",
    "    ipaddress.ip_network(\"192.0.0.0/24\"), # IETF protocol assignments\n",
    "    ipaddress.ip_network(\"192.0.2.0/24\"), # TEST-NET-1\n",
    "    ipaddress.ip_network(\"192.168.0.0/16\"), # Private-use networks\n",
    "    ipaddress.ip_network(\"198.18.0.0/15\"), # Network interconnect device benchmark testing\n",
    "    ipaddress.ip_network(\"198.51.100.0/24\"), # TEST-NET-2\n",
    "    ipaddress.ip_network(\"203.0.113.0/24\"), # TEST-NET-3\n",
    "    ipaddress.ip_network(\"224.0.0.0/4\"), # Multicast\n",
    "    ipaddress.ip_network(\"240.0.0.0/4\"), # Reserved for future use\n",
    "    ipaddress.ip_network(\"255.255.255.255/32\"), # Limited broadcast\n",
    "]\n",
    "def is_dns_bogon(dns_resolved_ips):\n",
    "    for ip in dns_resolved_ips:\n",
    "        ipv4addr = ipaddress.IPv4Address(ip)\n",
    "        if any([ipv4addr in ip_range for ip_range in bogon_ipv4_ranges]):\n",
    "            return True\n",
    "    return False\n",
    "\n",
    "def is_dns_tls_consistent(dns_resolved_ips, row):\n",
    "    # If it's a HTTPs site and we didn't get a TLS error, we can assume the IPs are valid\n",
    "    if row['input'].startswith('https://') and row['http_experiment_failure'] == 'None':\n",
    "        return False\n",
    "    \n",
    "    for ip in dns_resolved_ips:\n",
    "        domain = urlparse(row['input']).netloc\n",
    "        if is_tls_valid_with_cache(ip, domain):\n",
    "            # We consider the first hit to be enough to consider it consistent\n",
    "            return True\n",
    "    return False\n",
    "\n",
    "def is_dns_false_positive(dns_resolved_ips):\n",
    "    for ip in dns_resolved_ips:\n",
    "        if ip in false_positive_ips:\n",
    "            return True\n",
    "    return False\n",
    "\n",
    "def recompute_blocking(row):\n",
    "    if not isinstance(row['input'], str):\n",
    "        return 'invalid'\n",
    "    \n",
    "    try:\n",
    "        dns_resolved_ips = literal_eval(row['dns_resolved_ips'])\n",
    "    except:\n",
    "        dns_resolved_ips = []\n",
    "\n",
    "    blocking = row['blocking']\n",
    "    for ip in dns_resolved_ips:\n",
    "        if ip in confirmed_ips:\n",
    "            return 'dns.confirmed'\n",
    "        \n",
    "    # This is a special case for when we got no ipv4 addresses and the network doesn't support ipv6\n",
    "    if len(dns_resolved_ips) == 0 and row['http_experiment_failure'] == 'network_unreachable':\n",
    "        return 'dns.no_ipv4'\n",
    "    \n",
    "    if is_dns_bogon(dns_resolved_ips):\n",
    "        return 'dns.bogon'\n",
    "\n",
    "    try:\n",
    "        control_measurement = literal_eval(row['control_measurement'])\n",
    "    except:\n",
    "        return 'invalid'\n",
    "    if not control_measurement:\n",
    "        return 'invalid'\n",
    "    \n",
    "    if control_measurement['http_request']['failure'] != None:\n",
    "        return 'invalid'\n",
    "\n",
    "    if (normalize_failure(row['dns_experiment_failure']) == 'dns_nxdomain_error' and \n",
    "            control_measurement.get('http_request', {}).get('failure', '') != 'dns_lookup_error'):\n",
    "        return 'dns.nxdomain'\n",
    "\n",
    "    if (\n",
    "        not (row['input'].startswith('https://') and row['http_experiment_failure'] == 'None') \n",
    "        and not is_dns_false_positive(dns_resolved_ips) \n",
    "        and not is_dns_asns_consistent(dns_resolved_ips, control_measurement, row)\n",
    "        #and not is_dns_tls_consistent(dns_resolved_ips, row)\n",
    "    ):\n",
    "        return 'dns.inconsistent'\n",
    "\n",
    "    # If we got down to here, it means that DNS is consistent    \n",
    "    if row['http_title'] in confirmed_titles:\n",
    "        return 'http.title.confirmed'\n",
    "    \n",
    "    if row['http_body_md5'] in confirmed_bodies:\n",
    "        return 'http.body.confirmed'\n",
    "    \n",
    "    if blocking == 'http-diff' and row['input'].startswith('http://'):\n",
    "        return 'http.http_diff'\n",
    "    \n",
    "    if row['http_experiment_failure'] != 'None':\n",
    "        tcp_connect_list = literal_eval(row['tcp_connect'])\n",
    "        for conn in tcp_connect_list:\n",
    "            if conn['status']['failure'] == 'connection_reset':\n",
    "                return 'tcp.connection_reset'\n",
    "            elif conn['status']['failure'] == 'generic_timeout_error':\n",
    "                return 'tcp.connection_timeout'\n",
    "    \n",
    "    # We compute TLS level anomalies this using the network_events\n",
    "    tls_handshake_started = False\n",
    "    try:\n",
    "        network_events = literal_eval(row['network_events'])\n",
    "    except:\n",
    "        network_events = []\n",
    "    if network_events:\n",
    "        for idx, network_event in enumerate(network_events):\n",
    "            global write_operations\n",
    "            global read_operations\n",
    "            \n",
    "            if network_event['operation'] == 'write':\n",
    "                write_operations += 1\n",
    "            if network_event['operation'] == 'read':\n",
    "                read_operations += 1\n",
    "\n",
    "            if tls_handshake_started and network_event['failure']:\n",
    "                # We are guaranteed to not be out of bounds due to the tls_handshake_started flag\n",
    "                prev_operation = network_events[idx-1]\n",
    "                \n",
    "                suffix = ''\n",
    "                if normalize_failure(network_event['failure']) == 'connection_reset':\n",
    "                    return f'tls.connection_reset{suffix}'\n",
    "                elif normalize_failure(network_event['failure']) == 'eof_error':\n",
    "                    return f'tls.connection_closed{suffix}'\n",
    "                elif normalize_failure(network_event['failure']) == 'generic_timeout_error':\n",
    "                    return f'tls.connection_timeout{suffix}'\n",
    "                if write_operations > 1:\n",
    "                    suffix = f'_after_hello'\n",
    "\n",
    "            if network_event['operation'] == 'tls_handshake_start':\n",
    "                tls_handshake_started = True\n",
    "                write_operations = 0\n",
    "                read_operations = 0\n",
    "            if network_event['operation'] == 'tls_handshake_done':\n",
    "                tls_handshake_started = False\n",
    "\n",
    "    # If we got down to here, it means the DNS consistency checks have passed\n",
    "    # For the http related failures, if we are spotting them here, it means the test most likely doesn't support the \n",
    "    # new network_events keys, and therefore the results are a bit less accurate.\n",
    "    # This should ideally be indicated via a lower confidence value.\n",
    "    if normalize_failure(row['http_experiment_failure']) == 'connection_reset':\n",
    "        if row['input'].startswith('https://'):\n",
    "            return 'tls.connection_reset'\n",
    "        else:\n",
    "            return 'http.connection_reset'\n",
    "    elif normalize_failure(row['http_experiment_failure']) == 'eof_error':\n",
    "        if row['input'].startswith('https://'):\n",
    "            return 'tls.connection_closed'\n",
    "        else:\n",
    "            return 'http.connection_closed'\n",
    "    elif normalize_failure(row['http_experiment_failure']) == 'generic_timeout_error':\n",
    "        if row['input'].startswith('https://'):\n",
    "            return 'tls.connection_timeout'\n",
    "        else:\n",
    "            return 'http.connection_timeout'\n",
    "    # It's not just using DNS to point us to an IP that serves a blockpage and it's a TLS MITM\n",
    "    elif row['input'].startswith('https://') and row['http_experiment_failure'].startswith('ssl_'):\n",
    "        return 'tls.mitm'\n",
    "    \n",
    "    # We map unknown_failures to invalid measurements\n",
    "    elif row['http_experiment_failure'].startswith('unknown_failure'):\n",
    "        return 'invalid'\n",
    "    \n",
    "    # All unmapped errors go into a generic failure pool\n",
    "    elif row['http_experiment_failure'] != 'None':\n",
    "        if row['input'].startswith('https://'):\n",
    "            return 'tls.generic_failure'\n",
    "        else:\n",
    "            return 'http.generic_failure'\n",
    "    \n",
    "    return 'ok'"
   ]
  },
  {
   "cell_type": "code",
   "execution_count": 23,
   "id": "8c336cb6-0177-4eeb-a89e-894e898946ee",
   "metadata": {},
   "outputs": [
    {
     "name": "stderr",
     "output_type": "stream",
     "text": [
      "100%|███████████████████████████████████████████████████████████████████████| 1213107/1213107 [27:00<00:00, 748.45it/s]\n"
     ]
    }
   ],
   "source": [
    "df_vn['blocking_recalc'] = df_vn.progress_apply(recompute_blocking, axis=1)"
   ]
  },
  {
   "cell_type": "code",
   "execution_count": 24,
   "id": "ed0b8ebc-063f-49bf-98ed-e2baadddf55b",
   "metadata": {},
   "outputs": [
    {
     "data": {
      "text/plain": [
       "array(['ok', 'tls.connection_timeout', 'invalid', 'dns.inconsistent',\n",
       "       'dns.bogon', 'dns.nxdomain', 'http.connection_closed',\n",
       "       'http.connection_timeout', 'tcp.connection_timeout',\n",
       "       'tls.connection_reset', 'http.connection_reset', 'http.http_diff',\n",
       "       'tls.mitm', 'tls.connection_closed', 'dns.confirmed',\n",
       "       'http.body.confirmed', 'tls.generic_failure',\n",
       "       'http.generic_failure', 'dns.no_ipv4'], dtype=object)"
      ]
     },
     "execution_count": 24,
     "metadata": {},
     "output_type": "execute_result"
    }
   ],
   "source": [
    "df_vn['blocking_recalc'].unique()"
   ]
  },
  {
   "cell_type": "code",
   "execution_count": 25,
   "id": "285f43ee-1abf-4f96-92c9-b9026fb0f55f",
   "metadata": {},
   "outputs": [
    {
     "data": {
      "text/plain": [
       "array([\"['207.237.157.14']\", \"['23.66.38.221']\", \"['175.45.176.71']\", ...,\n",
       "       \"['125.31.55.137', '202.160.21.180']\", \"['151.236.216.85']\",\n",
       "       \"['172.67.221.123', '104.21.38.93']\"], dtype=object)"
      ]
     },
     "execution_count": 25,
     "metadata": {},
     "output_type": "execute_result"
    }
   ],
   "source": [
    "df_vn[\n",
    "    df_vn['blocking_recalc'] == 'dns.inconsistent'\n",
    "]['dns_resolved_ips'].unique()"
   ]
  },
  {
   "cell_type": "markdown",
   "id": "fc0a42c9-992a-4482-9724-d7f2edf1f2fb",
   "metadata": {},
   "source": [
    "Let's see on how many networks we were able to confirm the blocking of sites"
   ]
  },
  {
   "cell_type": "code",
   "execution_count": 26,
   "id": "ebbd857c-d768-4d9d-906b-d20ba42c4455",
   "metadata": {},
   "outputs": [
    {
     "data": {
      "text/plain": [
       "array(['AS131429', 'AS7552', 'AS24086'], dtype=object)"
      ]
     },
     "execution_count": 26,
     "metadata": {},
     "output_type": "execute_result"
    }
   ],
   "source": [
    "df_vn[\n",
    "    df_vn['blocking_recalc'] == 'dns.confirmed'\n",
    "]['probe_asn'].unique()"
   ]
  },
  {
   "cell_type": "code",
   "execution_count": 27,
   "id": "fe1c2d1c-1875-486f-b248-de47ba842d84",
   "metadata": {},
   "outputs": [
    {
     "data": {
      "text/plain": [
       "array([], dtype=object)"
      ]
     },
     "execution_count": 27,
     "metadata": {},
     "output_type": "execute_result"
    }
   ],
   "source": [
    "df_vn[\n",
    "    df_vn['blocking_recalc'] == 'http.title.confirmed'\n",
    "]['probe_asn'].unique()"
   ]
  },
  {
   "cell_type": "code",
   "execution_count": 28,
   "id": "bfebae7d",
   "metadata": {},
   "outputs": [
    {
     "data": {
      "text/plain": [
       "array(['AS7552', 'AS131429', 'AS45899'], dtype=object)"
      ]
     },
     "execution_count": 28,
     "metadata": {},
     "output_type": "execute_result"
    }
   ],
   "source": [
    "df_vn[\n",
    "    df_vn['blocking_recalc'] == 'http.body.confirmed'\n",
    "]['probe_asn'].unique()"
   ]
  },
  {
   "cell_type": "code",
   "execution_count": 29,
   "id": "e8f2ccf0-9644-4c6e-b1d1-3368b9237b5a",
   "metadata": {},
   "outputs": [],
   "source": [
    "confirmed_blocking = df_vn[\n",
    "    (df_vn['blocking_recalc'] == 'dns.confirmed') | \n",
    "    (df_vn['blocking_recalc'] == 'http.title.confirmed') | \n",
    "    (df_vn['blocking_recalc'] == 'http.body.confirmed')]\n",
    "\n",
    "msmt_counts = confirmed_blocking.pivot_table(index=['input'], values=['report_id', 'blocking_recalc', 'probe_asn'],\n",
    "                                                aggfunc={'report_id': len, \n",
    "                                                         'blocking_recalc': lambda x: ', '.join(set(x)),\n",
    "                                                         'probe_asn': lambda x: ', '.join(set(x))}).reset_index().rename(columns = {\n",
    "                                                                    'report_id': 'blocking_count',\n",
    "                                                                    'blocking_recalc' : 'blocking_method',\n",
    "                                                                    'probe_asn' : 'probe_asn_blocking'})"
   ]
  },
  {
   "cell_type": "code",
   "execution_count": 30,
   "id": "24c4b32d",
   "metadata": {},
   "outputs": [],
   "source": [
    "msmt_counts.to_csv('2023-vietnam-confirmed-by-heuristics')"
   ]
  },
  {
   "cell_type": "markdown",
   "id": "9a59e4c8-0c37-4ee0-adca-c1c96955b44d",
   "metadata": {},
   "source": [
    "We will now reshape the data using `pivot_table` and export the data of `blocking_recalc` into Google Data Studio. "
   ]
  },
  {
   "cell_type": "code",
   "execution_count": 31,
   "id": "b3c2abf1-c2ea-4529-8468-64eea1e83b63",
   "metadata": {},
   "outputs": [],
   "source": [
    "data_export = df_vn[['input',\n",
    " 'measurement_start_time',\n",
    " 'probe_asn',\n",
    " 'probe_cc',\n",
    " 'probe_network_name',\n",
    " 'report_id',\n",
    " 'resolver_asn',\n",
    " 'resolver_ip',\n",
    " 'resolver_network_name',\n",
    " 'software_name',\n",
    " 'software_version',\n",
    " 'test_name',\n",
    " 'test_runtime',\n",
    " 'test_version',\n",
    " 'network_type',\n",
    " 'origin',\n",
    " 'platform',\n",
    " 'dns_resolved_ips',\n",
    " 'network_events',\n",
    " 'control_failure',\n",
    " 'control_measurement',\n",
    " 'blocking',\n",
    " 'http_experiment_failure',\n",
    " 'dns_experiment_failure',\n",
    " 'http_title',\n",
    " 'http_meta_title',\n",
    " 'http_body_md5',\n",
    " 'tcp_connect',\n",
    " 'domain',\n",
    " 'explorer_url',\n",
    " 'blocking_recalc']]"
   ]
  },
  {
   "cell_type": "code",
   "execution_count": 32,
   "id": "126aada6-c358-433c-92b9-a63c23c11a0c",
   "metadata": {},
   "outputs": [],
   "source": [
    "data_export['count'] = 1"
   ]
  },
  {
   "cell_type": "code",
   "execution_count": 33,
   "id": "701e1bf0-27a5-41d8-90c1-6c563f57e59a",
   "metadata": {},
   "outputs": [],
   "source": [
    "data_export.pivot_table(\n",
    "    index=['input',\n",
    " 'measurement_start_time',\n",
    " 'probe_asn',\n",
    " 'probe_cc',\n",
    " 'probe_network_name',\n",
    " 'report_id',\n",
    " 'resolver_asn',\n",
    " 'resolver_ip',\n",
    " 'resolver_network_name',\n",
    " 'software_name',\n",
    " 'software_version',\n",
    " 'test_name',\n",
    " 'test_runtime',\n",
    " 'test_version',\n",
    " 'network_type',\n",
    " 'origin',\n",
    " 'platform',\n",
    " 'dns_resolved_ips',\n",
    " 'network_events',\n",
    " 'control_failure',\n",
    " 'control_measurement',\n",
    " 'blocking',\n",
    " 'http_experiment_failure',\n",
    " 'dns_experiment_failure',\n",
    " 'http_title',\n",
    " 'http_meta_title',\n",
    " 'http_body_md5',\n",
    " 'tcp_connect',\n",
    "'domain',\n",
    " 'explorer_url'], \n",
    "    columns=['blocking_recalc'],\n",
    "    values='count'\n",
    ").reset_index().to_csv('2023-vietnam-websites.csv')"
   ]
  },
  {
   "cell_type": "code",
   "execution_count": 34,
   "id": "eebeb35f-4ec9-4d30-b06a-1d2a49f4142a",
   "metadata": {},
   "outputs": [
    {
     "name": "stdout",
     "output_type": "stream",
     "text": [
      "1053 2023-vietnam-websites.csv\r\n"
     ]
    }
   ],
   "source": [
    "!wc -l 2023-vietnam-websites.csv"
   ]
  },
  {
   "cell_type": "code",
   "execution_count": 35,
   "id": "903e62f2-9a65-4276-8624-49ad5d339a72",
   "metadata": {},
   "outputs": [
    {
     "name": "stdout",
     "output_type": "stream",
     "text": [
      "1.9M\t2023-vietnam-websites.csv\r\n",
      "1.9M\ttotal\r\n"
     ]
    }
   ],
   "source": [
    "!du -sch 2023-vietnam-websites.csv"
   ]
  }
 ],
 "metadata": {
  "kernelspec": {
   "display_name": "Python 3 (ipykernel)",
   "language": "python",
   "name": "python3"
  },
  "language_info": {
   "codemirror_mode": {
    "name": "ipython",
    "version": 3
   },
   "file_extension": ".py",
   "mimetype": "text/x-python",
   "name": "python",
   "nbconvert_exporter": "python",
   "pygments_lexer": "ipython3",
   "version": "3.8.10"
  }
 },
 "nbformat": 4,
 "nbformat_minor": 5
}
