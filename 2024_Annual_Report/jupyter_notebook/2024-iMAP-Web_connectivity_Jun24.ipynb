{
 "cells": [
  {
   "cell_type": "markdown",
   "id": "ca7bf690",
   "metadata": {},
   "source": [
    "## List of all "
   ]
  },
  {
   "cell_type": "markdown",
   "id": "00d9093e",
   "metadata": {},
   "source": [
    "### Testing with one country"
   ]
  },
  {
   "cell_type": "code",
   "execution_count": 1,
   "id": "fec5e836",
   "metadata": {},
   "outputs": [],
   "source": [
    "import requests\n",
    "import pandas as pd\n",
    "resp = requests.get('https://api.ooni.io/api/v1/aggregation'\n",
    "             f'?probe_cc=MM&test_name=web_connectivity&since=2023-07-01&until=2024-07-01&axis_x=measurement_start_day&axis_y=category_code')\n",
    "j = resp.json()\n",
    "df = pd.json_normalize(j, record_path='result')"
   ]
  },
  {
   "cell_type": "code",
   "execution_count": 2,
   "id": "e250c816",
   "metadata": {
    "scrolled": true
   },
   "outputs": [
    {
     "name": "stdout",
     "output_type": "stream",
     "text": [
      "   anomaly_count category_code  confirmed_count  failure_count  \\\n",
      "0              2          ALDR                0              0   \n",
      "1             43          ANON                0             12   \n",
      "2              0          COMT                0              0   \n",
      "3              0          DATE                0              0   \n",
      "4              0           GMB                0              1   \n",
      "\n",
      "   measurement_count measurement_start_day  ok_count  \n",
      "0                  6            2023-07-01         4  \n",
      "1                212            2023-07-01       157  \n",
      "2                  5            2023-07-01         5  \n",
      "3                  5            2023-07-01         5  \n",
      "4                 13            2023-07-01        12  \n"
     ]
    }
   ],
   "source": [
    "print(df.head())"
   ]
  },
  {
   "cell_type": "markdown",
   "id": "43f31a17",
   "metadata": {},
   "source": [
    "### List of all domains of all countries"
   ]
  },
  {
   "cell_type": "code",
   "execution_count": 3,
   "id": "a2c08162",
   "metadata": {},
   "outputs": [],
   "source": [
    "import requests\n",
    "import pandas as pd\n",
    "# Burma, Cambodia, Hong Kong (China), India, Indonesia, Malaysia, Philippines, Thailand, Vietnam\n",
    "cc_list = [\n",
    "    'MM',\n",
    "    'KH',\n",
    "    'HK',\n",
    "    'IN',\n",
    "    'ID',\n",
    "    'MY',\n",
    "    'PH',\n",
    "    'TH',\n",
    "    'VN'\n",
    "]\n",
    "def get_webconnectivity(probe_cc):\n",
    "    resp = requests.get('https://api.ooni.io/api/v1/aggregation'\n",
    "             f'?probe_cc={probe_cc}&test_name=web_connectivity&since=2023-07-01&until=2024-07-01&axis_x=measurement_start_day&axis_y=category_code')\n",
    "    j = resp.json()\n",
    "    df = pd.json_normalize(j, record_path='result')\n",
    "    df['probe_cc'] = probe_cc\n",
    "    return df\n",
    "\n",
    "# Note: as_index=False is to combine the first 2 headers when doing agg\n",
    "\n",
    "df_list = []\n",
    "for cc in cc_list:\n",
    "    df_list.append(pd.DataFrame(get_webconnectivity(cc)))\n",
    "    \n",
    "df_all = pd.concat(df_list)"
   ]
  },
  {
   "cell_type": "code",
   "execution_count": 4,
   "id": "67eaa34f",
   "metadata": {},
   "outputs": [],
   "source": [
    "df_all.to_csv('webconnectivity_2024_04_23.csv')"
   ]
  },
  {
   "cell_type": "code",
   "execution_count": 5,
   "id": "f13af090",
   "metadata": {
    "scrolled": true
   },
   "outputs": [
    {
     "name": "stdout",
     "output_type": "stream",
     "text": [
      "   anomaly_count category_code  confirmed_count  failure_count  \\\n",
      "0              2          ALDR                0              0   \n",
      "1             43          ANON                0             12   \n",
      "2              0          COMT                0              0   \n",
      "3              0          DATE                0              0   \n",
      "4              0           GMB                0              1   \n",
      "\n",
      "   measurement_count measurement_start_day  ok_count probe_cc  \n",
      "0                  6            2023-07-01         4       MM  \n",
      "1                212            2023-07-01       157       MM  \n",
      "2                  5            2023-07-01         5       MM  \n",
      "3                  5            2023-07-01         5       MM  \n",
      "4                 13            2023-07-01        12       MM  \n"
     ]
    }
   ],
   "source": [
    "print(df_all.head())"
   ]
  },
  {
   "cell_type": "markdown",
   "id": "1d9e7881",
   "metadata": {},
   "source": [
    "### aggregation"
   ]
  },
  {
   "cell_type": "code",
   "execution_count": 1,
   "id": "2654d504",
   "metadata": {},
   "outputs": [],
   "source": [
    "import requests\n",
    "import pandas as pd\n",
    "resp = requests.get('https://api.ooni.io/api/v1/aggregation'\n",
    "             f'?probe_cc=KH&test_name=web_connectivity&since=2023-07-01&until=2024-07-01&axis_x=measurement_start_day&axis_y=domain')\n",
    "j = resp.json()\n",
    "df_date_domain = pd.json_normalize(j, record_path='result')"
   ]
  },
  {
   "cell_type": "code",
   "execution_count": 3,
   "id": "abac69d4",
   "metadata": {
    "scrolled": true
   },
   "outputs": [
    {
     "data": {
      "text/plain": [
       "1940"
      ]
     },
     "execution_count": 3,
     "metadata": {},
     "output_type": "execute_result"
    }
   ],
   "source": [
    "len(df_date_domain['domain'].unique())"
   ]
  },
  {
   "cell_type": "code",
   "execution_count": 4,
   "id": "0f5da299",
   "metadata": {},
   "outputs": [],
   "source": [
    "import requests\n",
    "import pandas as pd\n",
    "resp = requests.get('https://api.ooni.io/api/v1/aggregation'\n",
    "             f'?probe_cc=KH&test_name=web_connectivity&since=2023-07-01&until=2024-07-01&axis_y=domain')\n",
    "j = resp.json()\n",
    "df_domain = pd.json_normalize(j, record_path='result')"
   ]
  },
  {
   "cell_type": "code",
   "execution_count": 5,
   "id": "89014738",
   "metadata": {},
   "outputs": [
    {
     "data": {
      "text/plain": [
       "1940"
      ]
     },
     "execution_count": 5,
     "metadata": {},
     "output_type": "execute_result"
    }
   ],
   "source": [
    "len(df_domain['domain'].unique())"
   ]
  },
  {
   "cell_type": "code",
   "execution_count": 6,
   "id": "caa7f829",
   "metadata": {},
   "outputs": [],
   "source": [
    "df_domain.to_csv('2024_kh_domains.csv')"
   ]
  },
  {
   "cell_type": "code",
   "execution_count": 7,
   "id": "b612dad6",
   "metadata": {},
   "outputs": [],
   "source": [
    "df_date_domain['measurement_start_day'] = pd.to_datetime(df_date_domain['measurement_start_day'])\n"
   ]
  },
  {
   "cell_type": "code",
   "execution_count": 8,
   "id": "bf26ce76",
   "metadata": {},
   "outputs": [],
   "source": [
    "df_date_domain['quarter'] = df_date_domain['measurement_start_day'].dt.to_period('Q')"
   ]
  },
  {
   "cell_type": "code",
   "execution_count": 9,
   "id": "7b44d5af",
   "metadata": {},
   "outputs": [
    {
     "name": "stdout",
     "output_type": "stream",
     "text": [
      "   anomaly_count  confirmed_count              domain  failure_count  \\\n",
      "0              0                0  4genderjustice.org              0   \n",
      "1              0                0        76crimes.com              0   \n",
      "2              0                0           7day.news              0   \n",
      "3              0                0            9gag.com              0   \n",
      "4              0                0          abc.go.com              0   \n",
      "\n",
      "   measurement_count measurement_start_day  ok_count quarter  \n",
      "0                  1            2023-07-01         1  2023Q3  \n",
      "1                  1            2023-07-01         1  2023Q3  \n",
      "2                  1            2023-07-01         1  2023Q3  \n",
      "3                  1            2023-07-01         1  2023Q3  \n",
      "4                  1            2023-07-01         1  2023Q3  \n"
     ]
    }
   ],
   "source": [
    "print(df_date_domain.head())"
   ]
  },
  {
   "cell_type": "code",
   "execution_count": 10,
   "id": "00a13dbb",
   "metadata": {},
   "outputs": [],
   "source": [
    "df_domain_summary = df_date_domain.groupby(['quarter'], as_index=False).agg(\n",
    "        domain_count = ('domain', 'nunique')\n",
    "        )"
   ]
  },
  {
   "cell_type": "code",
   "execution_count": 11,
   "id": "a1f75250",
   "metadata": {
    "scrolled": true
   },
   "outputs": [
    {
     "name": "stdout",
     "output_type": "stream",
     "text": [
      "  quarter  domain_count\n",
      "0  2023Q3          2447\n",
      "1  2023Q4          2468\n",
      "2  2024Q1          2476\n",
      "3  2024Q2          2501\n"
     ]
    }
   ],
   "source": [
    "print(df_domain_summary.head())"
   ]
  },
  {
   "cell_type": "code",
   "execution_count": 12,
   "id": "c8868a0f",
   "metadata": {},
   "outputs": [],
   "source": [
    "import requests\n",
    "import pandas as pd\n",
    "resp = requests.get('https://api.ooni.io/api/v1/aggregation'\n",
    "             f'?probe_cc=MM&test_name=web_connectivity&since=2023-07-01&until=2024-07-01&axis_x=measurement_start_day&axis_y=probe_asn')\n",
    "j = resp.json()\n",
    "df_date_asn = pd.json_normalize(j, record_path='result')\n",
    "df_date_asn['measurement_start_day'] = pd.to_datetime(df_date_asn['measurement_start_day'])\n",
    "df_date_asn['quarter'] = df_date_asn['measurement_start_day'].dt.to_period('Q')\n",
    "df_date_asn['probe_cc'] = 'MM'"
   ]
  },
  {
   "cell_type": "code",
   "execution_count": 13,
   "id": "a5a2829d",
   "metadata": {},
   "outputs": [],
   "source": [
    "df_asn_summary = df_date_asn.groupby(['quarter','probe_cc'], as_index=False).agg(\n",
    "        asn_count = ('probe_asn', 'nunique')\n",
    "        )"
   ]
  },
  {
   "cell_type": "code",
   "execution_count": 14,
   "id": "f0ff3ef3",
   "metadata": {},
   "outputs": [
    {
     "name": "stdout",
     "output_type": "stream",
     "text": [
      "  quarter probe_cc  asn_count\n",
      "0  2023Q3       MM         24\n",
      "1  2023Q4       MM         30\n",
      "2  2024Q1       MM         23\n",
      "3  2024Q2       MM         34\n"
     ]
    }
   ],
   "source": [
    "print(df_asn_summary.head())"
   ]
  },
  {
   "cell_type": "code",
   "execution_count": 15,
   "id": "8e0df645",
   "metadata": {},
   "outputs": [],
   "source": [
    "df_quarter = df_asn_summary.merge(df_domain_summary, on='quarter', how='inner')\n"
   ]
  },
  {
   "cell_type": "code",
   "execution_count": 16,
   "id": "cdada416",
   "metadata": {},
   "outputs": [
    {
     "name": "stdout",
     "output_type": "stream",
     "text": [
      "  quarter probe_cc  asn_count  domain_count\n",
      "0  2023Q3       MM         24          2447\n",
      "1  2023Q4       MM         30          2468\n",
      "2  2024Q1       MM         23          2476\n",
      "3  2024Q2       MM         34          2501\n"
     ]
    }
   ],
   "source": [
    "print(df_quarter.head())"
   ]
  },
  {
   "cell_type": "code",
   "execution_count": 17,
   "id": "7a2a1de1",
   "metadata": {},
   "outputs": [],
   "source": [
    "import requests\n",
    "import pandas as pd\n",
    "# Burma, Cambodia, Hong Kong (China), India, Indonesia, Malaysia, Philippines, Thailand, Vietnam, Timor Leste\n",
    "cc_list = [\n",
    "    'MM',\n",
    "    'KH',\n",
    "    'HK',\n",
    "    'IN',\n",
    "    'ID',\n",
    "    'MY',\n",
    "    'PH',\n",
    "    'TH',\n",
    "    'VN'\n",
    "]\n",
    "def get_webconnectivity(probe_cc):\n",
    "    resp_asn = requests.get('https://api.ooni.io/api/v1/aggregation'\n",
    "                     f'?probe_cc={probe_cc}&test_name=web_connectivity&since=2023-07-01&until=2024-07-01&axis_x=measurement_start_day&axis_y=probe_asn')\n",
    "    j = resp_asn.json()\n",
    "                            \n",
    "    df_date_asn = pd.json_normalize(j, record_path='result')\n",
    "    df_date_asn['measurement_start_day'] = pd.to_datetime(df_date_asn['measurement_start_day'])\n",
    "    df_date_asn['quarter'] = df_date_asn['measurement_start_day'].dt.to_period('Q')\n",
    "    df_date_asn['probe_cc'] = probe_cc\n",
    "    \n",
    "    df_asn_summary = df_date_asn.groupby(['quarter','probe_cc'], as_index=False).agg(\n",
    "        asn_count = ('probe_asn', 'nunique'))    \n",
    "                            \n",
    "    resp_domain = requests.get('https://api.ooni.io/api/v1/aggregation'\n",
    "                        f'?probe_cc={probe_cc}&test_name=web_connectivity&since=2023-07-01&until=2024-07-01&axis_x=measurement_start_day&axis_y=domain')\n",
    "    k = resp_domain.json()\n",
    "                              \n",
    "    df_date_domain = pd.json_normalize(k, record_path='result')\n",
    "    df_date_domain['measurement_start_day'] = pd.to_datetime(df_date_domain['measurement_start_day'])\n",
    "    df_date_domain['quarter'] = df_date_domain['measurement_start_day'].dt.to_period('Q')\n",
    "    df_date_domain['probe_cc'] = probe_cc\n",
    "                              \n",
    "    df_domain_summary = df_date_domain.groupby(['quarter'], as_index=False).agg(\n",
    "        domain_count = ('domain', 'nunique'),\n",
    "        ok_count = ('ok_count', 'sum'),\n",
    "        anomaly_count = ('anomaly_count', 'sum'),\n",
    "        confirmed_count = ('confirmed_count', 'sum'),\n",
    "        failure_count = ('failure_count', 'sum'),\n",
    "        measurement_count = ('measurement_count', 'sum')\n",
    "    )                     \n",
    "    \n",
    "    df_quarter = df_asn_summary.merge(df_domain_summary, on='quarter', how='inner')\n",
    "\n",
    "    return df_quarter\n",
    "\n",
    "# Note: as_index=False is to combine the first 2 headers when doing agg\n",
    "\n",
    "df_list = []\n",
    "for cc in cc_list:\n",
    "    df_list.append(pd.DataFrame(get_webconnectivity(cc)))\n",
    "    \n",
    "df_all_2 = pd.concat(df_list)"
   ]
  },
  {
   "cell_type": "code",
   "execution_count": 18,
   "id": "b2bfbd88",
   "metadata": {},
   "outputs": [
    {
     "name": "stdout",
     "output_type": "stream",
     "text": [
      "  quarter probe_cc  asn_count  domain_count  ok_count  anomaly_count  \\\n",
      "0  2023Q3       MM         24          2447    160413          19496   \n",
      "1  2023Q4       MM         30          2468    126593          12464   \n",
      "2  2024Q1       MM         23          2476    163588          36490   \n",
      "3  2024Q2       MM         34          2501    130490          35709   \n",
      "0  2023Q3       KH         25          1809    650022          21921   \n",
      "\n",
      "   confirmed_count  failure_count  measurement_count  \n",
      "0             1499           9790             191198  \n",
      "1             1130           5370             145557  \n",
      "2              336           9274             209688  \n",
      "3              230           6243             172672  \n",
      "0             1941          16741             690625  \n"
     ]
    }
   ],
   "source": [
    "print(df_all_2.head())"
   ]
  },
  {
   "cell_type": "code",
   "execution_count": 19,
   "id": "dd8494d4",
   "metadata": {},
   "outputs": [],
   "source": [
    "df_all_2.to_csv('webconnectivity_2024-04-23_2.csv')"
   ]
  },
  {
   "cell_type": "code",
   "execution_count": null,
   "id": "8eea2fb2",
   "metadata": {},
   "outputs": [],
   "source": []
  },
  {
   "cell_type": "code",
   "execution_count": 20,
   "id": "cc8bf8ed",
   "metadata": {},
   "outputs": [],
   "source": [
    "#year\n",
    "import requests\n",
    "import pandas as pd\n",
    "# Burma, Cambodia, Hong Kong (China), India, Indonesia, Malaysia, Philippines, Thailand, Vietnam\n",
    "cc_list = [\n",
    "    'MM',\n",
    "    'KH',\n",
    "    'HK',\n",
    "    'IN',\n",
    "    'ID',\n",
    "    'MY',\n",
    "    'PH',\n",
    "    'TH',\n",
    "    'VN'\n",
    "]\n",
    "def get_webconnectivity(probe_cc):\n",
    "    resp_asn = requests.get('https://api.ooni.io/api/v1/aggregation'\n",
    "                     f'?probe_cc={probe_cc}&test_name=web_connectivity&since=2023-07-01&until=2024-07-01&axis_x=domain&axis_y=probe_asn')\n",
    "    j = resp_asn.json()\n",
    "                            \n",
    "    df = pd.json_normalize(j, record_path='result')\n",
    "    df['probe_cc'] = probe_cc\n",
    "    df_summary = df.groupby(['probe_cc'], as_index=False).agg(\n",
    "        domain_count = ('domain', 'nunique'),\n",
    "        asn_count = ('probe_asn', 'nunique'),\n",
    "        ok_count = ('ok_count', 'sum'),\n",
    "        anomaly_count = ('anomaly_count', 'sum'),\n",
    "        confirmed_count = ('confirmed_count', 'sum'),\n",
    "        failure_count = ('failure_count', 'sum'),\n",
    "        measurement_count = ('measurement_count', 'sum')\n",
    "    )\n",
    "\n",
    "    return df_summary\n",
    "\n",
    "# Note: as_index=False is to combine the first 2 headers when doing agg\n",
    "\n",
    "df_list = []\n",
    "for cc in cc_list:\n",
    "    df_list.append(pd.DataFrame(get_webconnectivity(cc)))\n",
    "    \n",
    "df_summary_year = pd.concat(df_list)"
   ]
  },
  {
   "cell_type": "code",
   "execution_count": null,
   "id": "3ba2936f",
   "metadata": {},
   "outputs": [],
   "source": []
  },
  {
   "cell_type": "code",
   "execution_count": 21,
   "id": "84d53c2d",
   "metadata": {
    "scrolled": true
   },
   "outputs": [
    {
     "data": {
      "text/html": [
       "<div>\n",
       "<style scoped>\n",
       "    .dataframe tbody tr th:only-of-type {\n",
       "        vertical-align: middle;\n",
       "    }\n",
       "\n",
       "    .dataframe tbody tr th {\n",
       "        vertical-align: top;\n",
       "    }\n",
       "\n",
       "    .dataframe thead th {\n",
       "        text-align: right;\n",
       "    }\n",
       "</style>\n",
       "<table border=\"1\" class=\"dataframe\">\n",
       "  <thead>\n",
       "    <tr style=\"text-align: right;\">\n",
       "      <th></th>\n",
       "      <th>probe_cc</th>\n",
       "      <th>domain_count</th>\n",
       "      <th>asn_count</th>\n",
       "      <th>ok_count</th>\n",
       "      <th>anomaly_count</th>\n",
       "      <th>confirmed_count</th>\n",
       "      <th>failure_count</th>\n",
       "      <th>measurement_count</th>\n",
       "    </tr>\n",
       "  </thead>\n",
       "  <tbody>\n",
       "    <tr>\n",
       "      <th>0</th>\n",
       "      <td>MM</td>\n",
       "      <td>2610</td>\n",
       "      <td>49</td>\n",
       "      <td>581084</td>\n",
       "      <td>104159</td>\n",
       "      <td>3195</td>\n",
       "      <td>30677</td>\n",
       "      <td>719115</td>\n",
       "    </tr>\n",
       "    <tr>\n",
       "      <th>0</th>\n",
       "      <td>KH</td>\n",
       "      <td>1940</td>\n",
       "      <td>31</td>\n",
       "      <td>2290548</td>\n",
       "      <td>85645</td>\n",
       "      <td>6489</td>\n",
       "      <td>57487</td>\n",
       "      <td>2440169</td>\n",
       "    </tr>\n",
       "    <tr>\n",
       "      <th>0</th>\n",
       "      <td>HK</td>\n",
       "      <td>2558</td>\n",
       "      <td>81</td>\n",
       "      <td>1711583</td>\n",
       "      <td>50097</td>\n",
       "      <td>156</td>\n",
       "      <td>57002</td>\n",
       "      <td>1818838</td>\n",
       "    </tr>\n",
       "    <tr>\n",
       "      <th>0</th>\n",
       "      <td>IN</td>\n",
       "      <td>12827</td>\n",
       "      <td>326</td>\n",
       "      <td>6682469</td>\n",
       "      <td>561119</td>\n",
       "      <td>220140</td>\n",
       "      <td>262161</td>\n",
       "      <td>7725889</td>\n",
       "    </tr>\n",
       "    <tr>\n",
       "      <th>0</th>\n",
       "      <td>ID</td>\n",
       "      <td>2524</td>\n",
       "      <td>156</td>\n",
       "      <td>2801780</td>\n",
       "      <td>162058</td>\n",
       "      <td>218891</td>\n",
       "      <td>114496</td>\n",
       "      <td>3297225</td>\n",
       "    </tr>\n",
       "    <tr>\n",
       "      <th>0</th>\n",
       "      <td>MY</td>\n",
       "      <td>2384</td>\n",
       "      <td>33</td>\n",
       "      <td>6206747</td>\n",
       "      <td>213388</td>\n",
       "      <td>172840</td>\n",
       "      <td>181849</td>\n",
       "      <td>6774824</td>\n",
       "    </tr>\n",
       "    <tr>\n",
       "      <th>0</th>\n",
       "      <td>PH</td>\n",
       "      <td>2056</td>\n",
       "      <td>41</td>\n",
       "      <td>2196872</td>\n",
       "      <td>66627</td>\n",
       "      <td>1202</td>\n",
       "      <td>62043</td>\n",
       "      <td>2326744</td>\n",
       "    </tr>\n",
       "    <tr>\n",
       "      <th>0</th>\n",
       "      <td>TH</td>\n",
       "      <td>2350</td>\n",
       "      <td>43</td>\n",
       "      <td>3459947</td>\n",
       "      <td>119007</td>\n",
       "      <td>10676</td>\n",
       "      <td>138295</td>\n",
       "      <td>3727925</td>\n",
       "    </tr>\n",
       "    <tr>\n",
       "      <th>0</th>\n",
       "      <td>VN</td>\n",
       "      <td>2296</td>\n",
       "      <td>23</td>\n",
       "      <td>3817362</td>\n",
       "      <td>282731</td>\n",
       "      <td>1799</td>\n",
       "      <td>122524</td>\n",
       "      <td>4224416</td>\n",
       "    </tr>\n",
       "  </tbody>\n",
       "</table>\n",
       "</div>"
      ],
      "text/plain": [
       "  probe_cc  domain_count  asn_count  ok_count  anomaly_count  confirmed_count  \\\n",
       "0       MM          2610         49    581084         104159             3195   \n",
       "0       KH          1940         31   2290548          85645             6489   \n",
       "0       HK          2558         81   1711583          50097              156   \n",
       "0       IN         12827        326   6682469         561119           220140   \n",
       "0       ID          2524        156   2801780         162058           218891   \n",
       "0       MY          2384         33   6206747         213388           172840   \n",
       "0       PH          2056         41   2196872          66627             1202   \n",
       "0       TH          2350         43   3459947         119007            10676   \n",
       "0       VN          2296         23   3817362         282731             1799   \n",
       "\n",
       "   failure_count  measurement_count  \n",
       "0          30677             719115  \n",
       "0          57487            2440169  \n",
       "0          57002            1818838  \n",
       "0         262161            7725889  \n",
       "0         114496            3297225  \n",
       "0         181849            6774824  \n",
       "0          62043            2326744  \n",
       "0         138295            3727925  \n",
       "0         122524            4224416  "
      ]
     },
     "execution_count": 21,
     "metadata": {},
     "output_type": "execute_result"
    }
   ],
   "source": [
    "df_summary_year"
   ]
  },
  {
   "cell_type": "code",
   "execution_count": 22,
   "id": "af6ac0e3",
   "metadata": {},
   "outputs": [],
   "source": [
    "df_summary_year.to_csv('ooni_wc_summary_total_2024_Apr.csv')"
   ]
  }
 ],
 "metadata": {
  "kernelspec": {
   "display_name": "Python 3 (ipykernel)",
   "language": "python",
   "name": "python3"
  },
  "language_info": {
   "codemirror_mode": {
    "name": "ipython",
    "version": 3
   },
   "file_extension": ".py",
   "mimetype": "text/x-python",
   "name": "python",
   "nbconvert_exporter": "python",
   "pygments_lexer": "ipython3",
   "version": "3.8.13"
  }
 },
 "nbformat": 4,
 "nbformat_minor": 5
}
